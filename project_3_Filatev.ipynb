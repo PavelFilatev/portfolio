{
 "cells": [
  {
   "cell_type": "markdown",
   "metadata": {},
   "source": [
    "# Исследование поведения пользователей в обновлённом приложении"
   ]
  },
  {
   "cell_type": "markdown",
   "metadata": {},
   "source": [
    "ГИПОТЕЗА 1  \n",
    "\n",
    "По идее, должна быть разница в поведении групп, которые проходят и не проходят обучение. Но так ли это? Влияет ли обучение на скорость прохождения других этапов игры?  \n",
    "\n",
    "ГИПОТЕЗА 2  \n",
    "\n",
    "Кажется, повторное прохождение обучения положительно влияет на оплату, верно?\n",
    "\n",
    "ГИПОТЕЗА 3  \n",
    "\n",
    "Если пользователь сначала выбирает сложность, будет ли он потом проходить обучение?"
   ]
  },
  {
   "cell_type": "markdown",
   "metadata": {},
   "source": [
    "ЗАДАЧИ:"
   ]
  },
  {
   "cell_type": "markdown",
   "metadata": {},
   "source": [
    "1.Определить, насколько обучение сокращает время прохождения этапов игры.  \n",
    "2.Доказать, что успешное обучение само по себе влияет на оплату и не имеет значения то, каким этапом оно шло.  \n",
    "3.Определить, насколько прозрачен процесс взаимодействия с игрой.\n",
    "\n"
   ]
  },
  {
   "cell_type": "markdown",
   "metadata": {},
   "source": [
    "КОНКРЕТНЫЕ ШАГИ (ФОРМАЛИЗОВАННЫЕ ЗАДАЧИ)"
   ]
  },
  {
   "cell_type": "markdown",
   "metadata": {},
   "source": [
    "1.Сравнить время прохождения различных этапов для пользователей, которые завершили обучение, и пользователей, не начинавших обучение. Если показатель отличается, выяснить, насколько.  \n",
    "2.Проверить, существует ли зависимость между вероятностью оплаты вопросов и количеством обучений, которые начинал или завершал пользователь.  \n",
    "3.Выяснить, как часто пользователи начинают обучение после выбора уровня сложности. (Это позволит оценить прозрачность процесса взаимодействия с игрой: если пользователи после выбора уровня сложности обращаются к обучению, значит, работа с приложением непонятна.)"
   ]
  },
  {
   "cell_type": "markdown",
   "metadata": {},
   "source": [
    "----------------------------------------------------------------------"
   ]
  },
  {
   "cell_type": "markdown",
   "metadata": {},
   "source": [
    "ИССЛЕДОВАНИЕ И ПРЕДОБРАБОТКА ДАННЫХ"
   ]
  },
  {
   "cell_type": "code",
   "execution_count": 1,
   "metadata": {},
   "outputs": [],
   "source": [
    "# Импорт библиотеки pandas:\n",
    "import pandas as pd\n",
    "\n",
    "# Импортируем библиотеку matplotlib:\n",
    "import matplotlib.pyplot as plt\n",
    "%matplotlib inline"
   ]
  },
  {
   "cell_type": "code",
   "execution_count": 2,
   "metadata": {},
   "outputs": [
    {
     "name": "stdout",
     "output_type": "stream",
     "text": [
      "<class 'pandas.core.frame.DataFrame'>\n",
      "RangeIndex: 252334 entries, 0 to 252333\n",
      "Data columns (total 6 columns):\n",
      " #   Column          Non-Null Count   Dtype  \n",
      "---  ------          --------------   -----  \n",
      " 0   id              252334 non-null  int64  \n",
      " 1   event_type      252334 non-null  object \n",
      " 2   selected_level  31086 non-null   object \n",
      " 3   start_time      252334 non-null  object \n",
      " 4   tutorial_id     125103 non-null  float64\n",
      " 5   user_id         252334 non-null  int64  \n",
      "dtypes: float64(1), int64(2), object(3)\n",
      "memory usage: 11.6+ MB\n",
      "<class 'pandas.core.frame.DataFrame'>\n",
      "RangeIndex: 5956 entries, 0 to 5955\n",
      "Data columns (total 4 columns):\n",
      " #   Column          Non-Null Count  Dtype \n",
      "---  ------          --------------  ----- \n",
      " 0   id              5956 non-null   int64 \n",
      " 1   user_id         5956 non-null   int64 \n",
      " 2   event_datetime  5956 non-null   object\n",
      " 3   amount          5956 non-null   int64 \n",
      "dtypes: int64(3), object(1)\n",
      "memory usage: 186.2+ KB\n"
     ]
    }
   ],
   "source": [
    "# Считываю файлы CSV, создаю датафреймы\n",
    "events_df = pd.read_csv ('C:/IDE/__pycache__/7_4_Events (1).csv')\n",
    "purchase_df = pd.read_csv ('C:/IDE/__pycache__/7_4_Purchase (1).csv')\n",
    "\n",
    "# проверяем данные ( типы данных, наличие пропусков)\n",
    "\n",
    "events_df.info()\n",
    "purchase_df.info()"
   ]
  },
  {
   "cell_type": "markdown",
   "metadata": {},
   "source": [
    "Задание необходимо выполнять на основе данных пользователей, которые зарегистрировались в 2018 году (с 1 января по 31 декабря 2018 года включительно). \n",
    " \n",
    "Фильтруем данные"
   ]
  },
  {
   "cell_type": "code",
   "execution_count": 3,
   "metadata": {},
   "outputs": [
    {
     "name": "stdout",
     "output_type": "stream",
     "text": [
      "<class 'pandas.core.frame.DataFrame'>\n",
      "Index: 66959 entries, 51405 to 118364\n",
      "Data columns (total 6 columns):\n",
      " #   Column          Non-Null Count  Dtype  \n",
      "---  ------          --------------  -----  \n",
      " 0   id              66959 non-null  int64  \n",
      " 1   event_type      66959 non-null  object \n",
      " 2   selected_level  8342 non-null   object \n",
      " 3   start_time      66959 non-null  object \n",
      " 4   tutorial_id     32954 non-null  float64\n",
      " 5   user_id         66959 non-null  int64  \n",
      "dtypes: float64(1), int64(2), object(3)\n",
      "memory usage: 3.6+ MB\n"
     ]
    }
   ],
   "source": [
    "# фильтруем данные таблицы events_df по пользователями, которые зарегистрировались в период с 2018-01-01 по 2018-01-01\n",
    "mask1 = events_df['start_time'] >= '2018-01-01'\n",
    "mask2 = events_df['start_time'] < '2019-01-01'\n",
    "mask3 = events_df['event_type'] == 'registration'\n",
    "\n",
    "mask_2018 = events_df[mask1 & mask2 & mask3]['user_id'].to_list()\n",
    "events_df = events_df[events_df['user_id'].isin(mask_2018)]\n",
    "\n",
    "# Проверяем результ\n",
    "events_df.info()"
   ]
  },
  {
   "cell_type": "code",
   "execution_count": 4,
   "metadata": {},
   "outputs": [
    {
     "name": "stdout",
     "output_type": "stream",
     "text": [
      "2018-01-01T03:48:40\n",
      "2019-01-01T05:50:36\n"
     ]
    }
   ],
   "source": [
    "# Проверяем период времени \n",
    "print(events_df['start_time'].min())\n",
    "print(events_df['start_time'].max())"
   ]
  },
  {
   "cell_type": "code",
   "execution_count": 5,
   "metadata": {},
   "outputs": [
    {
     "name": "stdout",
     "output_type": "stream",
     "text": [
      "<class 'pandas.core.frame.DataFrame'>\n",
      "Index: 1600 entries, 1171 to 2778\n",
      "Data columns (total 4 columns):\n",
      " #   Column          Non-Null Count  Dtype \n",
      "---  ------          --------------  ----- \n",
      " 0   id              1600 non-null   int64 \n",
      " 1   user_id         1600 non-null   int64 \n",
      " 2   event_datetime  1600 non-null   object\n",
      " 3   amount          1600 non-null   int64 \n",
      "dtypes: int64(3), object(1)\n",
      "memory usage: 62.5+ KB\n"
     ]
    }
   ],
   "source": [
    "# Фильтруем данные таблицы  purchase_df по попользователям,которые зарегестрировались и совершали  в период с 2018-01-01 по 2018-01-01:\n",
    "purchase_df = purchase_df[purchase_df['user_id'].isin(mask_2018)]\n",
    "\n",
    "# Проверяем результа при помощи функции .info():\n",
    "purchase_df.info()"
   ]
  },
  {
   "cell_type": "markdown",
   "metadata": {},
   "source": [
    "В обеих таблицах присутствуют одинаковые столбцы (id), но они имеют разноe значение.  \n",
    "В датафрейме event_df столбце id указывает на id события, в purchase_df столбец id указывает на id оплаты.  \n",
    "\n",
    "Переименовываем столбцы при помощи функции .rename()"
   ]
  },
  {
   "cell_type": "code",
   "execution_count": 6,
   "metadata": {},
   "outputs": [],
   "source": [
    "events_df = events_df.rename(columns={'id': 'event_id'})\n",
    "\n",
    "purchase_df = purchase_df.rename(columns={'id': 'purchase_id'})\n",
    "purchase_df = purchase_df.rename(columns={'event_datetime': 'start_time'})\n",
    "purchase_df['event_type'] = 'purchase'\n"
   ]
  },
  {
   "cell_type": "markdown",
   "metadata": {},
   "source": [
    "Оъединяем таблицы"
   ]
  },
  {
   "cell_type": "code",
   "execution_count": 7,
   "metadata": {},
   "outputs": [
    {
     "data": {
      "text/html": [
       "<div>\n",
       "<style scoped>\n",
       "    .dataframe tbody tr th:only-of-type {\n",
       "        vertical-align: middle;\n",
       "    }\n",
       "\n",
       "    .dataframe tbody tr th {\n",
       "        vertical-align: top;\n",
       "    }\n",
       "\n",
       "    .dataframe thead th {\n",
       "        text-align: right;\n",
       "    }\n",
       "</style>\n",
       "<table border=\"1\" class=\"dataframe\">\n",
       "  <thead>\n",
       "    <tr style=\"text-align: right;\">\n",
       "      <th></th>\n",
       "      <th>event_id</th>\n",
       "      <th>event_type</th>\n",
       "      <th>selected_level</th>\n",
       "      <th>start_time</th>\n",
       "      <th>tutorial_id</th>\n",
       "      <th>user_id</th>\n",
       "      <th>purchase_id</th>\n",
       "      <th>amount</th>\n",
       "    </tr>\n",
       "  </thead>\n",
       "  <tbody>\n",
       "    <tr>\n",
       "      <th>51405</th>\n",
       "      <td>80308.0</td>\n",
       "      <td>registration</td>\n",
       "      <td>NaN</td>\n",
       "      <td>2018-01-01T03:48:40</td>\n",
       "      <td>NaN</td>\n",
       "      <td>27832</td>\n",
       "      <td>NaN</td>\n",
       "      <td>NaN</td>\n",
       "    </tr>\n",
       "    <tr>\n",
       "      <th>51406</th>\n",
       "      <td>80309.0</td>\n",
       "      <td>registration</td>\n",
       "      <td>NaN</td>\n",
       "      <td>2018-01-01T04:07:25</td>\n",
       "      <td>NaN</td>\n",
       "      <td>27833</td>\n",
       "      <td>NaN</td>\n",
       "      <td>NaN</td>\n",
       "    </tr>\n",
       "    <tr>\n",
       "      <th>51407</th>\n",
       "      <td>80310.0</td>\n",
       "      <td>registration</td>\n",
       "      <td>NaN</td>\n",
       "      <td>2018-01-01T08:35:10</td>\n",
       "      <td>NaN</td>\n",
       "      <td>27834</td>\n",
       "      <td>NaN</td>\n",
       "      <td>NaN</td>\n",
       "    </tr>\n",
       "    <tr>\n",
       "      <th>51408</th>\n",
       "      <td>80311.0</td>\n",
       "      <td>registration</td>\n",
       "      <td>NaN</td>\n",
       "      <td>2018-01-01T11:54:47</td>\n",
       "      <td>NaN</td>\n",
       "      <td>27835</td>\n",
       "      <td>NaN</td>\n",
       "      <td>NaN</td>\n",
       "    </tr>\n",
       "    <tr>\n",
       "      <th>51409</th>\n",
       "      <td>80312.0</td>\n",
       "      <td>registration</td>\n",
       "      <td>NaN</td>\n",
       "      <td>2018-01-01T13:28:07</td>\n",
       "      <td>NaN</td>\n",
       "      <td>27836</td>\n",
       "      <td>NaN</td>\n",
       "      <td>NaN</td>\n",
       "    </tr>\n",
       "  </tbody>\n",
       "</table>\n",
       "</div>"
      ],
      "text/plain": [
       "       event_id    event_type selected_level           start_time  \\\n",
       "51405   80308.0  registration            NaN  2018-01-01T03:48:40   \n",
       "51406   80309.0  registration            NaN  2018-01-01T04:07:25   \n",
       "51407   80310.0  registration            NaN  2018-01-01T08:35:10   \n",
       "51408   80311.0  registration            NaN  2018-01-01T11:54:47   \n",
       "51409   80312.0  registration            NaN  2018-01-01T13:28:07   \n",
       "\n",
       "       tutorial_id  user_id  purchase_id  amount  \n",
       "51405          NaN    27832          NaN     NaN  \n",
       "51406          NaN    27833          NaN     NaN  \n",
       "51407          NaN    27834          NaN     NaN  \n",
       "51408          NaN    27835          NaN     NaN  \n",
       "51409          NaN    27836          NaN     NaN  "
      ]
     },
     "execution_count": 7,
     "metadata": {},
     "output_type": "execute_result"
    }
   ],
   "source": [
    "total_events = pd.concat([events_df, purchase_df], sort=False)\n",
    "\n",
    "\n",
    "# Выводим результат объединения\n",
    "total_events.head()"
   ]
  },
  {
   "cell_type": "code",
   "execution_count": 8,
   "metadata": {},
   "outputs": [
    {
     "name": "stdout",
     "output_type": "stream",
     "text": [
      "<class 'pandas.core.frame.DataFrame'>\n",
      "Index: 68559 entries, 51405 to 2778\n",
      "Data columns (total 8 columns):\n",
      " #   Column          Non-Null Count  Dtype         \n",
      "---  ------          --------------  -----         \n",
      " 0   event_id        66959 non-null  float64       \n",
      " 1   event_type      68559 non-null  object        \n",
      " 2   selected_level  8342 non-null   object        \n",
      " 3   start_time      68559 non-null  datetime64[ns]\n",
      " 4   tutorial_id     32954 non-null  float64       \n",
      " 5   user_id         68559 non-null  int64         \n",
      " 6   purchase_id     1600 non-null   float64       \n",
      " 7   amount          1600 non-null   float64       \n",
      "dtypes: datetime64[ns](1), float64(4), int64(1), object(2)\n",
      "memory usage: 4.7+ MB\n"
     ]
    }
   ],
   "source": [
    "# Переводим столбец event_date в правильный формат:\n",
    "total_events.start_time = pd.to_datetime(total_events.start_time)\n",
    "\n",
    "# Проверяем результат\n",
    "total_events.info()"
   ]
  },
  {
   "cell_type": "code",
   "execution_count": 9,
   "metadata": {},
   "outputs": [
    {
     "data": {
      "text/html": [
       "<div>\n",
       "<style scoped>\n",
       "    .dataframe tbody tr th:only-of-type {\n",
       "        vertical-align: middle;\n",
       "    }\n",
       "\n",
       "    .dataframe tbody tr th {\n",
       "        vertical-align: top;\n",
       "    }\n",
       "\n",
       "    .dataframe thead th {\n",
       "        text-align: right;\n",
       "    }\n",
       "</style>\n",
       "<table border=\"1\" class=\"dataframe\">\n",
       "  <thead>\n",
       "    <tr style=\"text-align: right;\">\n",
       "      <th></th>\n",
       "      <th>event_id</th>\n",
       "      <th>event_type</th>\n",
       "      <th>selected_level</th>\n",
       "      <th>start_time</th>\n",
       "      <th>tutorial_id</th>\n",
       "      <th>user_id</th>\n",
       "      <th>purchase_id</th>\n",
       "      <th>amount</th>\n",
       "    </tr>\n",
       "  </thead>\n",
       "  <tbody>\n",
       "    <tr>\n",
       "      <th>0</th>\n",
       "      <td>80308.0</td>\n",
       "      <td>registration</td>\n",
       "      <td>NaN</td>\n",
       "      <td>2018-01-01 03:48:40</td>\n",
       "      <td>NaN</td>\n",
       "      <td>27832</td>\n",
       "      <td>NaN</td>\n",
       "      <td>NaN</td>\n",
       "    </tr>\n",
       "    <tr>\n",
       "      <th>1</th>\n",
       "      <td>80309.0</td>\n",
       "      <td>registration</td>\n",
       "      <td>NaN</td>\n",
       "      <td>2018-01-01 04:07:25</td>\n",
       "      <td>NaN</td>\n",
       "      <td>27833</td>\n",
       "      <td>NaN</td>\n",
       "      <td>NaN</td>\n",
       "    </tr>\n",
       "    <tr>\n",
       "      <th>2</th>\n",
       "      <td>80310.0</td>\n",
       "      <td>registration</td>\n",
       "      <td>NaN</td>\n",
       "      <td>2018-01-01 08:35:10</td>\n",
       "      <td>NaN</td>\n",
       "      <td>27834</td>\n",
       "      <td>NaN</td>\n",
       "      <td>NaN</td>\n",
       "    </tr>\n",
       "    <tr>\n",
       "      <th>3</th>\n",
       "      <td>80311.0</td>\n",
       "      <td>registration</td>\n",
       "      <td>NaN</td>\n",
       "      <td>2018-01-01 11:54:47</td>\n",
       "      <td>NaN</td>\n",
       "      <td>27835</td>\n",
       "      <td>NaN</td>\n",
       "      <td>NaN</td>\n",
       "    </tr>\n",
       "    <tr>\n",
       "      <th>4</th>\n",
       "      <td>80312.0</td>\n",
       "      <td>registration</td>\n",
       "      <td>NaN</td>\n",
       "      <td>2018-01-01 13:28:07</td>\n",
       "      <td>NaN</td>\n",
       "      <td>27836</td>\n",
       "      <td>NaN</td>\n",
       "      <td>NaN</td>\n",
       "    </tr>\n",
       "    <tr>\n",
       "      <th>...</th>\n",
       "      <td>...</td>\n",
       "      <td>...</td>\n",
       "      <td>...</td>\n",
       "      <td>...</td>\n",
       "      <td>...</td>\n",
       "      <td>...</td>\n",
       "      <td>...</td>\n",
       "      <td>...</td>\n",
       "    </tr>\n",
       "    <tr>\n",
       "      <th>68554</th>\n",
       "      <td>NaN</td>\n",
       "      <td>purchase</td>\n",
       "      <td>NaN</td>\n",
       "      <td>2019-01-02 03:48:19</td>\n",
       "      <td>NaN</td>\n",
       "      <td>47498</td>\n",
       "      <td>18441.0</td>\n",
       "      <td>100.0</td>\n",
       "    </tr>\n",
       "    <tr>\n",
       "      <th>68555</th>\n",
       "      <td>NaN</td>\n",
       "      <td>purchase</td>\n",
       "      <td>NaN</td>\n",
       "      <td>2019-01-02 23:26:26</td>\n",
       "      <td>NaN</td>\n",
       "      <td>47647</td>\n",
       "      <td>18442.0</td>\n",
       "      <td>150.0</td>\n",
       "    </tr>\n",
       "    <tr>\n",
       "      <th>68556</th>\n",
       "      <td>NaN</td>\n",
       "      <td>purchase</td>\n",
       "      <td>NaN</td>\n",
       "      <td>2019-01-03 00:36:36</td>\n",
       "      <td>NaN</td>\n",
       "      <td>47554</td>\n",
       "      <td>18443.0</td>\n",
       "      <td>50.0</td>\n",
       "    </tr>\n",
       "    <tr>\n",
       "      <th>68557</th>\n",
       "      <td>NaN</td>\n",
       "      <td>purchase</td>\n",
       "      <td>NaN</td>\n",
       "      <td>2019-01-04 12:51:41</td>\n",
       "      <td>NaN</td>\n",
       "      <td>47742</td>\n",
       "      <td>18448.0</td>\n",
       "      <td>50.0</td>\n",
       "    </tr>\n",
       "    <tr>\n",
       "      <th>68558</th>\n",
       "      <td>NaN</td>\n",
       "      <td>purchase</td>\n",
       "      <td>NaN</td>\n",
       "      <td>2019-01-06 07:14:25</td>\n",
       "      <td>NaN</td>\n",
       "      <td>47732</td>\n",
       "      <td>18452.0</td>\n",
       "      <td>150.0</td>\n",
       "    </tr>\n",
       "  </tbody>\n",
       "</table>\n",
       "<p>68559 rows × 8 columns</p>\n",
       "</div>"
      ],
      "text/plain": [
       "       event_id    event_type selected_level          start_time  tutorial_id  \\\n",
       "0       80308.0  registration            NaN 2018-01-01 03:48:40          NaN   \n",
       "1       80309.0  registration            NaN 2018-01-01 04:07:25          NaN   \n",
       "2       80310.0  registration            NaN 2018-01-01 08:35:10          NaN   \n",
       "3       80311.0  registration            NaN 2018-01-01 11:54:47          NaN   \n",
       "4       80312.0  registration            NaN 2018-01-01 13:28:07          NaN   \n",
       "...         ...           ...            ...                 ...          ...   \n",
       "68554       NaN      purchase            NaN 2019-01-02 03:48:19          NaN   \n",
       "68555       NaN      purchase            NaN 2019-01-02 23:26:26          NaN   \n",
       "68556       NaN      purchase            NaN 2019-01-03 00:36:36          NaN   \n",
       "68557       NaN      purchase            NaN 2019-01-04 12:51:41          NaN   \n",
       "68558       NaN      purchase            NaN 2019-01-06 07:14:25          NaN   \n",
       "\n",
       "       user_id  purchase_id  amount  \n",
       "0        27832          NaN     NaN  \n",
       "1        27833          NaN     NaN  \n",
       "2        27834          NaN     NaN  \n",
       "3        27835          NaN     NaN  \n",
       "4        27836          NaN     NaN  \n",
       "...        ...          ...     ...  \n",
       "68554    47498      18441.0   100.0  \n",
       "68555    47647      18442.0   150.0  \n",
       "68556    47554      18443.0    50.0  \n",
       "68557    47742      18448.0    50.0  \n",
       "68558    47732      18452.0   150.0  \n",
       "\n",
       "[68559 rows x 8 columns]"
      ]
     },
     "execution_count": 9,
     "metadata": {},
     "output_type": "execute_result"
    }
   ],
   "source": [
    "# После соединения таблиц дублируются индексы:\n",
    "total_events = total_events.reset_index(drop=True).sort_values('start_time')\n",
    "\n",
    "# Выводим результат:\n",
    "total_events"
   ]
  },
  {
   "cell_type": "code",
   "execution_count": 10,
   "metadata": {},
   "outputs": [
    {
     "data": {
      "text/plain": [
       "1.0"
      ]
     },
     "execution_count": 10,
     "metadata": {},
     "output_type": "execute_result"
    }
   ],
   "source": [
    "total_events[total_events[\"event_type\"] == \"registration\"][\"user_id\"].value_counts().mean()"
   ]
  },
  {
   "cell_type": "markdown",
   "metadata": {},
   "source": [
    "Разделим пользователей на группы:"
   ]
  },
  {
   "cell_type": "code",
   "execution_count": 11,
   "metadata": {},
   "outputs": [],
   "source": [
    "# Все пользователи \n",
    "all_users_id = set(total_events['user_id'].unique())\n",
    "\n",
    "# Пользователи, которые начали обучение\n",
    "users_id_with_start_tutorial = set(total_events[total_events['event_type'] == 'tutorial_start']['user_id'].unique())\n",
    "\n",
    "# пользователи, которые закончили обучение  \n",
    "users_id_with_finish_tutorial = set(total_events[total_events[\"event_type\"] == \"tutorial_finish\"][\"user_id\"].unique())\n",
    "\n",
    "# пользователи, которые не начинали обучение\n",
    "users_id_without_started_tutorial = all_users_id.difference(users_id_with_start_tutorial)\n"
   ]
  },
  {
   "cell_type": "markdown",
   "metadata": {},
   "source": [
    "Данные для анализа подготовлены."
   ]
  },
  {
   "cell_type": "markdown",
   "metadata": {},
   "source": [
    "-------------------------------------------------------------------"
   ]
  },
  {
   "cell_type": "markdown",
   "metadata": {},
   "source": [
    "ЗАДАЧА 1. Определить, насколько обучение сокращает время прохождения этапов игры.  "
   ]
  },
  {
   "cell_type": "markdown",
   "metadata": {},
   "source": [
    "ГИПОТЕЗА 1. По идее, должна быть разница в поведении групп, которые проходят и не проходят обучение. Но так ли это? Влияет ли обучение на скорость прохождения других этапов игры?"
   ]
  },
  {
   "cell_type": "code",
   "execution_count": 12,
   "metadata": {},
   "outputs": [
    {
     "data": {
      "text/html": [
       "<div>\n",
       "<style scoped>\n",
       "    .dataframe tbody tr th:only-of-type {\n",
       "        vertical-align: middle;\n",
       "    }\n",
       "\n",
       "    .dataframe tbody tr th {\n",
       "        vertical-align: top;\n",
       "    }\n",
       "\n",
       "    .dataframe thead th {\n",
       "        text-align: right;\n",
       "    }\n",
       "</style>\n",
       "<table border=\"1\" class=\"dataframe\">\n",
       "  <thead>\n",
       "    <tr style=\"text-align: right;\">\n",
       "      <th>event_type</th>\n",
       "      <th>user_id</th>\n",
       "      <th>level_choice</th>\n",
       "      <th>pack_choice</th>\n",
       "      <th>purchase</th>\n",
       "      <th>registration</th>\n",
       "      <th>tutorial_finish</th>\n",
       "      <th>tutorial_start</th>\n",
       "    </tr>\n",
       "  </thead>\n",
       "  <tbody>\n",
       "    <tr>\n",
       "      <th>0</th>\n",
       "      <td>27832</td>\n",
       "      <td>NaT</td>\n",
       "      <td>NaT</td>\n",
       "      <td>NaT</td>\n",
       "      <td>2018-01-01 03:48:40</td>\n",
       "      <td>NaT</td>\n",
       "      <td>NaT</td>\n",
       "    </tr>\n",
       "    <tr>\n",
       "      <th>1</th>\n",
       "      <td>27833</td>\n",
       "      <td>NaT</td>\n",
       "      <td>NaT</td>\n",
       "      <td>NaT</td>\n",
       "      <td>2018-01-01 04:07:25</td>\n",
       "      <td>2018-01-01 17:50:08</td>\n",
       "      <td>2018-01-01 17:47:40</td>\n",
       "    </tr>\n",
       "    <tr>\n",
       "      <th>2</th>\n",
       "      <td>27834</td>\n",
       "      <td>NaT</td>\n",
       "      <td>NaT</td>\n",
       "      <td>NaT</td>\n",
       "      <td>2018-01-01 08:35:10</td>\n",
       "      <td>2018-01-01 19:48:01</td>\n",
       "      <td>2018-01-01 19:46:11</td>\n",
       "    </tr>\n",
       "    <tr>\n",
       "      <th>3</th>\n",
       "      <td>27835</td>\n",
       "      <td>2018-01-01 20:37:22</td>\n",
       "      <td>2018-01-01 20:38:43</td>\n",
       "      <td>NaT</td>\n",
       "      <td>2018-01-01 11:54:47</td>\n",
       "      <td>2018-01-01 15:06:15</td>\n",
       "      <td>2018-01-01 15:00:51</td>\n",
       "    </tr>\n",
       "    <tr>\n",
       "      <th>4</th>\n",
       "      <td>27836</td>\n",
       "      <td>NaT</td>\n",
       "      <td>NaT</td>\n",
       "      <td>NaT</td>\n",
       "      <td>2018-01-01 13:28:07</td>\n",
       "      <td>2018-01-01 15:42:58</td>\n",
       "      <td>2018-01-01 14:54:40</td>\n",
       "    </tr>\n",
       "    <tr>\n",
       "      <th>...</th>\n",
       "      <td>...</td>\n",
       "      <td>...</td>\n",
       "      <td>...</td>\n",
       "      <td>...</td>\n",
       "      <td>...</td>\n",
       "      <td>...</td>\n",
       "      <td>...</td>\n",
       "    </tr>\n",
       "    <tr>\n",
       "      <th>19921</th>\n",
       "      <td>47753</td>\n",
       "      <td>2018-12-31 22:36:19</td>\n",
       "      <td>2018-12-31 22:38:05</td>\n",
       "      <td>NaT</td>\n",
       "      <td>2018-12-31 18:58:55</td>\n",
       "      <td>2018-12-31 20:57:07</td>\n",
       "      <td>2018-12-31 20:54:56</td>\n",
       "    </tr>\n",
       "    <tr>\n",
       "      <th>19922</th>\n",
       "      <td>47754</td>\n",
       "      <td>NaT</td>\n",
       "      <td>NaT</td>\n",
       "      <td>NaT</td>\n",
       "      <td>2018-12-31 19:14:08</td>\n",
       "      <td>NaT</td>\n",
       "      <td>NaT</td>\n",
       "    </tr>\n",
       "    <tr>\n",
       "      <th>19923</th>\n",
       "      <td>47755</td>\n",
       "      <td>2019-01-01 05:04:52</td>\n",
       "      <td>NaT</td>\n",
       "      <td>NaT</td>\n",
       "      <td>2018-12-31 21:15:14</td>\n",
       "      <td>2019-01-01 00:09:30</td>\n",
       "      <td>2019-01-01 00:08:14</td>\n",
       "    </tr>\n",
       "    <tr>\n",
       "      <th>19924</th>\n",
       "      <td>47756</td>\n",
       "      <td>2019-01-01 05:42:11</td>\n",
       "      <td>2019-01-01 05:50:36</td>\n",
       "      <td>NaT</td>\n",
       "      <td>2018-12-31 23:17:30</td>\n",
       "      <td>2019-01-01 03:29:25</td>\n",
       "      <td>2019-01-01 03:26:18</td>\n",
       "    </tr>\n",
       "    <tr>\n",
       "      <th>19925</th>\n",
       "      <td>47757</td>\n",
       "      <td>NaT</td>\n",
       "      <td>NaT</td>\n",
       "      <td>NaT</td>\n",
       "      <td>2018-12-31 23:18:06</td>\n",
       "      <td>NaT</td>\n",
       "      <td>NaT</td>\n",
       "    </tr>\n",
       "  </tbody>\n",
       "</table>\n",
       "<p>19926 rows × 7 columns</p>\n",
       "</div>"
      ],
      "text/plain": [
       "event_type  user_id        level_choice         pack_choice purchase  \\\n",
       "0             27832                 NaT                 NaT      NaT   \n",
       "1             27833                 NaT                 NaT      NaT   \n",
       "2             27834                 NaT                 NaT      NaT   \n",
       "3             27835 2018-01-01 20:37:22 2018-01-01 20:38:43      NaT   \n",
       "4             27836                 NaT                 NaT      NaT   \n",
       "...             ...                 ...                 ...      ...   \n",
       "19921         47753 2018-12-31 22:36:19 2018-12-31 22:38:05      NaT   \n",
       "19922         47754                 NaT                 NaT      NaT   \n",
       "19923         47755 2019-01-01 05:04:52                 NaT      NaT   \n",
       "19924         47756 2019-01-01 05:42:11 2019-01-01 05:50:36      NaT   \n",
       "19925         47757                 NaT                 NaT      NaT   \n",
       "\n",
       "event_type        registration     tutorial_finish      tutorial_start  \n",
       "0          2018-01-01 03:48:40                 NaT                 NaT  \n",
       "1          2018-01-01 04:07:25 2018-01-01 17:50:08 2018-01-01 17:47:40  \n",
       "2          2018-01-01 08:35:10 2018-01-01 19:48:01 2018-01-01 19:46:11  \n",
       "3          2018-01-01 11:54:47 2018-01-01 15:06:15 2018-01-01 15:00:51  \n",
       "4          2018-01-01 13:28:07 2018-01-01 15:42:58 2018-01-01 14:54:40  \n",
       "...                        ...                 ...                 ...  \n",
       "19921      2018-12-31 18:58:55 2018-12-31 20:57:07 2018-12-31 20:54:56  \n",
       "19922      2018-12-31 19:14:08                 NaT                 NaT  \n",
       "19923      2018-12-31 21:15:14 2019-01-01 00:09:30 2019-01-01 00:08:14  \n",
       "19924      2018-12-31 23:17:30 2019-01-01 03:29:25 2019-01-01 03:26:18  \n",
       "19925      2018-12-31 23:18:06                 NaT                 NaT  \n",
       "\n",
       "[19926 rows x 7 columns]"
      ]
     },
     "execution_count": 12,
     "metadata": {},
     "output_type": "execute_result"
    }
   ],
   "source": [
    "# Создаем сводную таблицу pivot_events_df:\n",
    "pivot_events_df = total_events.pivot_table(\n",
    "    values='start_time', # Время события\n",
    "    index='user_id', # user_id (id конкретного пользователя)\n",
    "    columns='event_type', # Название событий \n",
    "    aggfunc='min' # функция aggfunc\n",
    ")\n",
    "\n",
    "# Делаем сброс индексов в сводной таблице:\n",
    "pivot_events_df= pivot_events_df.reset_index()\n",
    "pivot_events_df\n"
   ]
  },
  {
   "cell_type": "code",
   "execution_count": 13,
   "metadata": {},
   "outputs": [
    {
     "data": {
      "text/html": [
       "<div>\n",
       "<style scoped>\n",
       "    .dataframe tbody tr th:only-of-type {\n",
       "        vertical-align: middle;\n",
       "    }\n",
       "\n",
       "    .dataframe tbody tr th {\n",
       "        vertical-align: top;\n",
       "    }\n",
       "\n",
       "    .dataframe thead th {\n",
       "        text-align: right;\n",
       "    }\n",
       "</style>\n",
       "<table border=\"1\" class=\"dataframe\">\n",
       "  <thead>\n",
       "    <tr style=\"text-align: right;\">\n",
       "      <th>event_type</th>\n",
       "      <th>user_id</th>\n",
       "      <th>level_choice</th>\n",
       "      <th>pack_choice</th>\n",
       "      <th>purchase</th>\n",
       "      <th>registration</th>\n",
       "      <th>tutorial_finish</th>\n",
       "      <th>tutorial_start</th>\n",
       "      <th>group</th>\n",
       "    </tr>\n",
       "  </thead>\n",
       "  <tbody>\n",
       "    <tr>\n",
       "      <th>0</th>\n",
       "      <td>27832</td>\n",
       "      <td>NaT</td>\n",
       "      <td>NaT</td>\n",
       "      <td>NaT</td>\n",
       "      <td>2018-01-01 03:48:40</td>\n",
       "      <td>NaT</td>\n",
       "      <td>NaT</td>\n",
       "      <td>Не начинал</td>\n",
       "    </tr>\n",
       "    <tr>\n",
       "      <th>1</th>\n",
       "      <td>27833</td>\n",
       "      <td>NaT</td>\n",
       "      <td>NaT</td>\n",
       "      <td>NaT</td>\n",
       "      <td>2018-01-01 04:07:25</td>\n",
       "      <td>2018-01-01 17:50:08</td>\n",
       "      <td>2018-01-01 17:47:40</td>\n",
       "      <td>Закончил</td>\n",
       "    </tr>\n",
       "    <tr>\n",
       "      <th>2</th>\n",
       "      <td>27834</td>\n",
       "      <td>NaT</td>\n",
       "      <td>NaT</td>\n",
       "      <td>NaT</td>\n",
       "      <td>2018-01-01 08:35:10</td>\n",
       "      <td>2018-01-01 19:48:01</td>\n",
       "      <td>2018-01-01 19:46:11</td>\n",
       "      <td>Закончил</td>\n",
       "    </tr>\n",
       "    <tr>\n",
       "      <th>3</th>\n",
       "      <td>27835</td>\n",
       "      <td>2018-01-01 20:37:22</td>\n",
       "      <td>2018-01-01 20:38:43</td>\n",
       "      <td>NaT</td>\n",
       "      <td>2018-01-01 11:54:47</td>\n",
       "      <td>2018-01-01 15:06:15</td>\n",
       "      <td>2018-01-01 15:00:51</td>\n",
       "      <td>Закончил</td>\n",
       "    </tr>\n",
       "    <tr>\n",
       "      <th>4</th>\n",
       "      <td>27836</td>\n",
       "      <td>NaT</td>\n",
       "      <td>NaT</td>\n",
       "      <td>NaT</td>\n",
       "      <td>2018-01-01 13:28:07</td>\n",
       "      <td>2018-01-01 15:42:58</td>\n",
       "      <td>2018-01-01 14:54:40</td>\n",
       "      <td>Закончил</td>\n",
       "    </tr>\n",
       "    <tr>\n",
       "      <th>...</th>\n",
       "      <td>...</td>\n",
       "      <td>...</td>\n",
       "      <td>...</td>\n",
       "      <td>...</td>\n",
       "      <td>...</td>\n",
       "      <td>...</td>\n",
       "      <td>...</td>\n",
       "      <td>...</td>\n",
       "    </tr>\n",
       "    <tr>\n",
       "      <th>19921</th>\n",
       "      <td>47753</td>\n",
       "      <td>2018-12-31 22:36:19</td>\n",
       "      <td>2018-12-31 22:38:05</td>\n",
       "      <td>NaT</td>\n",
       "      <td>2018-12-31 18:58:55</td>\n",
       "      <td>2018-12-31 20:57:07</td>\n",
       "      <td>2018-12-31 20:54:56</td>\n",
       "      <td>Закончил</td>\n",
       "    </tr>\n",
       "    <tr>\n",
       "      <th>19922</th>\n",
       "      <td>47754</td>\n",
       "      <td>NaT</td>\n",
       "      <td>NaT</td>\n",
       "      <td>NaT</td>\n",
       "      <td>2018-12-31 19:14:08</td>\n",
       "      <td>NaT</td>\n",
       "      <td>NaT</td>\n",
       "      <td>Не начинал</td>\n",
       "    </tr>\n",
       "    <tr>\n",
       "      <th>19923</th>\n",
       "      <td>47755</td>\n",
       "      <td>2019-01-01 05:04:52</td>\n",
       "      <td>NaT</td>\n",
       "      <td>NaT</td>\n",
       "      <td>2018-12-31 21:15:14</td>\n",
       "      <td>2019-01-01 00:09:30</td>\n",
       "      <td>2019-01-01 00:08:14</td>\n",
       "      <td>Закончил</td>\n",
       "    </tr>\n",
       "    <tr>\n",
       "      <th>19924</th>\n",
       "      <td>47756</td>\n",
       "      <td>2019-01-01 05:42:11</td>\n",
       "      <td>2019-01-01 05:50:36</td>\n",
       "      <td>NaT</td>\n",
       "      <td>2018-12-31 23:17:30</td>\n",
       "      <td>2019-01-01 03:29:25</td>\n",
       "      <td>2019-01-01 03:26:18</td>\n",
       "      <td>Закончил</td>\n",
       "    </tr>\n",
       "    <tr>\n",
       "      <th>19925</th>\n",
       "      <td>47757</td>\n",
       "      <td>NaT</td>\n",
       "      <td>NaT</td>\n",
       "      <td>NaT</td>\n",
       "      <td>2018-12-31 23:18:06</td>\n",
       "      <td>NaT</td>\n",
       "      <td>NaT</td>\n",
       "      <td>Не начинал</td>\n",
       "    </tr>\n",
       "  </tbody>\n",
       "</table>\n",
       "<p>19926 rows × 8 columns</p>\n",
       "</div>"
      ],
      "text/plain": [
       "event_type  user_id        level_choice         pack_choice purchase  \\\n",
       "0             27832                 NaT                 NaT      NaT   \n",
       "1             27833                 NaT                 NaT      NaT   \n",
       "2             27834                 NaT                 NaT      NaT   \n",
       "3             27835 2018-01-01 20:37:22 2018-01-01 20:38:43      NaT   \n",
       "4             27836                 NaT                 NaT      NaT   \n",
       "...             ...                 ...                 ...      ...   \n",
       "19921         47753 2018-12-31 22:36:19 2018-12-31 22:38:05      NaT   \n",
       "19922         47754                 NaT                 NaT      NaT   \n",
       "19923         47755 2019-01-01 05:04:52                 NaT      NaT   \n",
       "19924         47756 2019-01-01 05:42:11 2019-01-01 05:50:36      NaT   \n",
       "19925         47757                 NaT                 NaT      NaT   \n",
       "\n",
       "event_type        registration     tutorial_finish      tutorial_start  \\\n",
       "0          2018-01-01 03:48:40                 NaT                 NaT   \n",
       "1          2018-01-01 04:07:25 2018-01-01 17:50:08 2018-01-01 17:47:40   \n",
       "2          2018-01-01 08:35:10 2018-01-01 19:48:01 2018-01-01 19:46:11   \n",
       "3          2018-01-01 11:54:47 2018-01-01 15:06:15 2018-01-01 15:00:51   \n",
       "4          2018-01-01 13:28:07 2018-01-01 15:42:58 2018-01-01 14:54:40   \n",
       "...                        ...                 ...                 ...   \n",
       "19921      2018-12-31 18:58:55 2018-12-31 20:57:07 2018-12-31 20:54:56   \n",
       "19922      2018-12-31 19:14:08                 NaT                 NaT   \n",
       "19923      2018-12-31 21:15:14 2019-01-01 00:09:30 2019-01-01 00:08:14   \n",
       "19924      2018-12-31 23:17:30 2019-01-01 03:29:25 2019-01-01 03:26:18   \n",
       "19925      2018-12-31 23:18:06                 NaT                 NaT   \n",
       "\n",
       "event_type       group  \n",
       "0           Не начинал  \n",
       "1             Закончил  \n",
       "2             Закончил  \n",
       "3             Закончил  \n",
       "4             Закончил  \n",
       "...                ...  \n",
       "19921         Закончил  \n",
       "19922       Не начинал  \n",
       "19923         Закончил  \n",
       "19924         Закончил  \n",
       "19925       Не начинал  \n",
       "\n",
       "[19926 rows x 8 columns]"
      ]
     },
     "execution_count": 13,
     "metadata": {},
     "output_type": "execute_result"
    }
   ],
   "source": [
    "# Создаем функцию get_tutorial_status которая распределит пользователей по группам Finished, Not started и Not finished:\n",
    "def get_tutorial_status(user_id):\n",
    "    if user_id in users_id_with_finish_tutorial:\n",
    "        return 'Закончил'\n",
    "    elif user_id in users_id_without_started_tutorial:\n",
    "        return 'Не начинал'\n",
    "    else:\n",
    "        return 'Не закончил'\n",
    "\n",
    "# Применяем функцию к столбцу user_id для создания нового столбца group с название группы:\n",
    "pivot_events_df['group']=pivot_events_df['user_id'].apply(get_tutorial_status)\n",
    "pivot_events_df"
   ]
  },
  {
   "cell_type": "code",
   "execution_count": 14,
   "metadata": {},
   "outputs": [
    {
     "data": {
      "text/html": [
       "<div>\n",
       "<style scoped>\n",
       "    .dataframe tbody tr th:only-of-type {\n",
       "        vertical-align: middle;\n",
       "    }\n",
       "\n",
       "    .dataframe tbody tr th {\n",
       "        vertical-align: top;\n",
       "    }\n",
       "\n",
       "    .dataframe thead th {\n",
       "        text-align: right;\n",
       "    }\n",
       "</style>\n",
       "<table border=\"1\" class=\"dataframe\">\n",
       "  <thead>\n",
       "    <tr style=\"text-align: right;\">\n",
       "      <th>event_type</th>\n",
       "      <th>user_id</th>\n",
       "      <th>level_choice</th>\n",
       "      <th>pack_choice</th>\n",
       "      <th>purchase</th>\n",
       "      <th>registration</th>\n",
       "      <th>tutorial_finish</th>\n",
       "      <th>tutorial_start</th>\n",
       "      <th>group</th>\n",
       "      <th>deltatime_reg_and_purchase</th>\n",
       "      <th>deltatime_reg_and_pack_choice</th>\n",
       "      <th>deltatime_reg_and_level_choice</th>\n",
       "    </tr>\n",
       "  </thead>\n",
       "  <tbody>\n",
       "    <tr>\n",
       "      <th>0</th>\n",
       "      <td>27832</td>\n",
       "      <td>NaT</td>\n",
       "      <td>NaT</td>\n",
       "      <td>NaT</td>\n",
       "      <td>2018-01-01 03:48:40</td>\n",
       "      <td>NaT</td>\n",
       "      <td>NaT</td>\n",
       "      <td>Не начинал</td>\n",
       "      <td>NaN</td>\n",
       "      <td>NaN</td>\n",
       "      <td>NaN</td>\n",
       "    </tr>\n",
       "    <tr>\n",
       "      <th>1</th>\n",
       "      <td>27833</td>\n",
       "      <td>NaT</td>\n",
       "      <td>NaT</td>\n",
       "      <td>NaT</td>\n",
       "      <td>2018-01-01 04:07:25</td>\n",
       "      <td>2018-01-01 17:50:08</td>\n",
       "      <td>2018-01-01 17:47:40</td>\n",
       "      <td>Закончил</td>\n",
       "      <td>NaN</td>\n",
       "      <td>NaN</td>\n",
       "      <td>NaN</td>\n",
       "    </tr>\n",
       "    <tr>\n",
       "      <th>2</th>\n",
       "      <td>27834</td>\n",
       "      <td>NaT</td>\n",
       "      <td>NaT</td>\n",
       "      <td>NaT</td>\n",
       "      <td>2018-01-01 08:35:10</td>\n",
       "      <td>2018-01-01 19:48:01</td>\n",
       "      <td>2018-01-01 19:46:11</td>\n",
       "      <td>Закончил</td>\n",
       "      <td>NaN</td>\n",
       "      <td>NaN</td>\n",
       "      <td>NaN</td>\n",
       "    </tr>\n",
       "    <tr>\n",
       "      <th>3</th>\n",
       "      <td>27835</td>\n",
       "      <td>2018-01-01 20:37:22</td>\n",
       "      <td>2018-01-01 20:38:43</td>\n",
       "      <td>NaT</td>\n",
       "      <td>2018-01-01 11:54:47</td>\n",
       "      <td>2018-01-01 15:06:15</td>\n",
       "      <td>2018-01-01 15:00:51</td>\n",
       "      <td>Закончил</td>\n",
       "      <td>NaN</td>\n",
       "      <td>8.732222</td>\n",
       "      <td>8.709722</td>\n",
       "    </tr>\n",
       "    <tr>\n",
       "      <th>4</th>\n",
       "      <td>27836</td>\n",
       "      <td>NaT</td>\n",
       "      <td>NaT</td>\n",
       "      <td>NaT</td>\n",
       "      <td>2018-01-01 13:28:07</td>\n",
       "      <td>2018-01-01 15:42:58</td>\n",
       "      <td>2018-01-01 14:54:40</td>\n",
       "      <td>Закончил</td>\n",
       "      <td>NaN</td>\n",
       "      <td>NaN</td>\n",
       "      <td>NaN</td>\n",
       "    </tr>\n",
       "    <tr>\n",
       "      <th>...</th>\n",
       "      <td>...</td>\n",
       "      <td>...</td>\n",
       "      <td>...</td>\n",
       "      <td>...</td>\n",
       "      <td>...</td>\n",
       "      <td>...</td>\n",
       "      <td>...</td>\n",
       "      <td>...</td>\n",
       "      <td>...</td>\n",
       "      <td>...</td>\n",
       "      <td>...</td>\n",
       "    </tr>\n",
       "    <tr>\n",
       "      <th>19921</th>\n",
       "      <td>47753</td>\n",
       "      <td>2018-12-31 22:36:19</td>\n",
       "      <td>2018-12-31 22:38:05</td>\n",
       "      <td>NaT</td>\n",
       "      <td>2018-12-31 18:58:55</td>\n",
       "      <td>2018-12-31 20:57:07</td>\n",
       "      <td>2018-12-31 20:54:56</td>\n",
       "      <td>Закончил</td>\n",
       "      <td>NaN</td>\n",
       "      <td>3.652778</td>\n",
       "      <td>3.623333</td>\n",
       "    </tr>\n",
       "    <tr>\n",
       "      <th>19922</th>\n",
       "      <td>47754</td>\n",
       "      <td>NaT</td>\n",
       "      <td>NaT</td>\n",
       "      <td>NaT</td>\n",
       "      <td>2018-12-31 19:14:08</td>\n",
       "      <td>NaT</td>\n",
       "      <td>NaT</td>\n",
       "      <td>Не начинал</td>\n",
       "      <td>NaN</td>\n",
       "      <td>NaN</td>\n",
       "      <td>NaN</td>\n",
       "    </tr>\n",
       "    <tr>\n",
       "      <th>19923</th>\n",
       "      <td>47755</td>\n",
       "      <td>2019-01-01 05:04:52</td>\n",
       "      <td>NaT</td>\n",
       "      <td>NaT</td>\n",
       "      <td>2018-12-31 21:15:14</td>\n",
       "      <td>2019-01-01 00:09:30</td>\n",
       "      <td>2019-01-01 00:08:14</td>\n",
       "      <td>Закончил</td>\n",
       "      <td>NaN</td>\n",
       "      <td>NaN</td>\n",
       "      <td>7.827222</td>\n",
       "    </tr>\n",
       "    <tr>\n",
       "      <th>19924</th>\n",
       "      <td>47756</td>\n",
       "      <td>2019-01-01 05:42:11</td>\n",
       "      <td>2019-01-01 05:50:36</td>\n",
       "      <td>NaT</td>\n",
       "      <td>2018-12-31 23:17:30</td>\n",
       "      <td>2019-01-01 03:29:25</td>\n",
       "      <td>2019-01-01 03:26:18</td>\n",
       "      <td>Закончил</td>\n",
       "      <td>NaN</td>\n",
       "      <td>6.551667</td>\n",
       "      <td>6.411389</td>\n",
       "    </tr>\n",
       "    <tr>\n",
       "      <th>19925</th>\n",
       "      <td>47757</td>\n",
       "      <td>NaT</td>\n",
       "      <td>NaT</td>\n",
       "      <td>NaT</td>\n",
       "      <td>2018-12-31 23:18:06</td>\n",
       "      <td>NaT</td>\n",
       "      <td>NaT</td>\n",
       "      <td>Не начинал</td>\n",
       "      <td>NaN</td>\n",
       "      <td>NaN</td>\n",
       "      <td>NaN</td>\n",
       "    </tr>\n",
       "  </tbody>\n",
       "</table>\n",
       "<p>19926 rows × 11 columns</p>\n",
       "</div>"
      ],
      "text/plain": [
       "event_type  user_id        level_choice         pack_choice purchase  \\\n",
       "0             27832                 NaT                 NaT      NaT   \n",
       "1             27833                 NaT                 NaT      NaT   \n",
       "2             27834                 NaT                 NaT      NaT   \n",
       "3             27835 2018-01-01 20:37:22 2018-01-01 20:38:43      NaT   \n",
       "4             27836                 NaT                 NaT      NaT   \n",
       "...             ...                 ...                 ...      ...   \n",
       "19921         47753 2018-12-31 22:36:19 2018-12-31 22:38:05      NaT   \n",
       "19922         47754                 NaT                 NaT      NaT   \n",
       "19923         47755 2019-01-01 05:04:52                 NaT      NaT   \n",
       "19924         47756 2019-01-01 05:42:11 2019-01-01 05:50:36      NaT   \n",
       "19925         47757                 NaT                 NaT      NaT   \n",
       "\n",
       "event_type        registration     tutorial_finish      tutorial_start  \\\n",
       "0          2018-01-01 03:48:40                 NaT                 NaT   \n",
       "1          2018-01-01 04:07:25 2018-01-01 17:50:08 2018-01-01 17:47:40   \n",
       "2          2018-01-01 08:35:10 2018-01-01 19:48:01 2018-01-01 19:46:11   \n",
       "3          2018-01-01 11:54:47 2018-01-01 15:06:15 2018-01-01 15:00:51   \n",
       "4          2018-01-01 13:28:07 2018-01-01 15:42:58 2018-01-01 14:54:40   \n",
       "...                        ...                 ...                 ...   \n",
       "19921      2018-12-31 18:58:55 2018-12-31 20:57:07 2018-12-31 20:54:56   \n",
       "19922      2018-12-31 19:14:08                 NaT                 NaT   \n",
       "19923      2018-12-31 21:15:14 2019-01-01 00:09:30 2019-01-01 00:08:14   \n",
       "19924      2018-12-31 23:17:30 2019-01-01 03:29:25 2019-01-01 03:26:18   \n",
       "19925      2018-12-31 23:18:06                 NaT                 NaT   \n",
       "\n",
       "event_type       group  deltatime_reg_and_purchase  \\\n",
       "0           Не начинал                         NaN   \n",
       "1             Закончил                         NaN   \n",
       "2             Закончил                         NaN   \n",
       "3             Закончил                         NaN   \n",
       "4             Закончил                         NaN   \n",
       "...                ...                         ...   \n",
       "19921         Закончил                         NaN   \n",
       "19922       Не начинал                         NaN   \n",
       "19923         Закончил                         NaN   \n",
       "19924         Закончил                         NaN   \n",
       "19925       Не начинал                         NaN   \n",
       "\n",
       "event_type  deltatime_reg_and_pack_choice  deltatime_reg_and_level_choice  \n",
       "0                                     NaN                             NaN  \n",
       "1                                     NaN                             NaN  \n",
       "2                                     NaN                             NaN  \n",
       "3                                8.732222                        8.709722  \n",
       "4                                     NaN                             NaN  \n",
       "...                                   ...                             ...  \n",
       "19921                            3.652778                        3.623333  \n",
       "19922                                 NaN                             NaN  \n",
       "19923                                 NaN                        7.827222  \n",
       "19924                            6.551667                        6.411389  \n",
       "19925                                 NaN                             NaN  \n",
       "\n",
       "[19926 rows x 11 columns]"
      ]
     },
     "metadata": {},
     "output_type": "display_data"
    }
   ],
   "source": [
    "#Создаем новые столбцы:\n",
    "\n",
    "# показывает разницу во времени между purchase и registreation :\n",
    "pivot_events_df['deltatime_reg_and_purchase'] = (pivot_events_df['purchase'] - pivot_events_df['registration']) / pd.Timedelta('1 hour')\n",
    "\n",
    "# показывает разницу во времени между pack_choice и registration:\n",
    "pivot_events_df['deltatime_reg_and_pack_choice'] = (pivot_events_df['pack_choice'] - pivot_events_df['registration']) / pd.Timedelta('1 hour')\n",
    "\n",
    "# показывает разницу во времени между level_choice и registreation :\n",
    "pivot_events_df['deltatime_reg_and_level_choice'] = (pivot_events_df['level_choice'] - pivot_events_df['registration']) / pd.Timedelta('1 hour')\n",
    "\n",
    "display(pivot_events_df)"
   ]
  },
  {
   "cell_type": "markdown",
   "metadata": {},
   "source": [
    "Группировка данных по среднему времени"
   ]
  },
  {
   "cell_type": "code",
   "execution_count": 15,
   "metadata": {},
   "outputs": [],
   "source": [
    "#  между регистрацией и покупкой по группе пользователей:\n",
    "grouped_deltatime_reg_and_purchase = round(pivot_events_df.groupby('group', as_index=False)[['deltatime_reg_and_purchase']].mean(),2)\n",
    "\n",
    "#  между регистрацией и выбором пакета вопросов по группе пользователей:\n",
    "grouped_deltatime_reg_and_pack_choice = round(pivot_events_df.groupby('group', as_index=False)[['deltatime_reg_and_pack_choice']].mean(),2)\n",
    "\n",
    "#  между регистрацией и выбором уровня сложности по группе пользователей:\n",
    "grouped_deltatime_reg_and_level_choice = round(pivot_events_df.groupby('group', as_index=False)[['deltatime_reg_and_level_choice']].mean(),2)"
   ]
  },
  {
   "cell_type": "markdown",
   "metadata": {},
   "source": [
    "Строим столбчатые диаграммы по группам пользователей"
   ]
  },
  {
   "cell_type": "markdown",
   "metadata": {},
   "source": [
    "Диаграмма 1 - показывает среднюю разницу во времени между регистрацией и покупкой"
   ]
  },
  {
   "cell_type": "code",
   "execution_count": 16,
   "metadata": {},
   "outputs": [
    {
     "data": {
      "text/plain": [
       "[Text(0, 0, '96.5'), Text(0, 0, '101.55'), Text(0, 0, '105.1')]"
      ]
     },
     "execution_count": 16,
     "metadata": {},
     "output_type": "execute_result"
    },
    {
     "data": {
      "image/png": "[encoded data removed]",
      "text/plain": [
       "<Figure size 800x400 with 1 Axes>"
      ]
     },
     "metadata": {},
     "output_type": "display_data"
    }
   ],
   "source": [
    "fig = plt.figure(figsize=(8, 4))\n",
    "axes = fig.add_axes([0,0,1,1])\n",
    "bar_group_1 = axes.bar(\n",
    "    x =  grouped_deltatime_reg_and_purchase['group'],\n",
    "    height = grouped_deltatime_reg_and_purchase['deltatime_reg_and_purchase'])\n",
    "axes.set_title('Время между регистрацией и покупкой')\n",
    "axes.set_ylabel('Среднее время (час)')\n",
    "axes.set_xlabel('Группа пользователей')\n",
    "axes.bar_label(bar_group_1)\n"
   ]
  },
  {
   "cell_type": "markdown",
   "metadata": {},
   "source": [
    "Диаграмма 2 - показывает среднюю разницу во времени между регистрацией и выбором пакета вопросов"
   ]
  },
  {
   "cell_type": "code",
   "execution_count": 17,
   "metadata": {},
   "outputs": [
    {
     "data": {
      "text/plain": [
       "[Text(0, 0, '7.18'), Text(0, 0, '8.38'), Text(0, 0, '5.12')]"
      ]
     },
     "execution_count": 17,
     "metadata": {},
     "output_type": "execute_result"
    },
    {
     "data": {
      "image/png": "[encoded data removed]",
      "text/plain": [
       "<Figure size 800x400 with 1 Axes>"
      ]
     },
     "metadata": {},
     "output_type": "display_data"
    }
   ],
   "source": [
    "fig = plt.figure(figsize=(8, 4))\n",
    "axes = fig.add_axes([0,0,1,1])\n",
    "bar_group_2 = axes.bar(\n",
    "    x =  grouped_deltatime_reg_and_pack_choice['group'],\n",
    "    height = grouped_deltatime_reg_and_pack_choice['deltatime_reg_and_pack_choice'])\n",
    "axes.set_title('Время между регистрацией и выбором пакета вопросов')\n",
    "axes.set_ylabel('Среднее время (час)')\n",
    "axes.set_xlabel('Группа пользователей')\n",
    "axes.bar_label(bar_group_2)"
   ]
  },
  {
   "cell_type": "markdown",
   "metadata": {},
   "source": [
    "Диаграмма 3 - показывает среднюю разницу во времени между регистрацией и выбором уровня сложности "
   ]
  },
  {
   "cell_type": "code",
   "execution_count": 18,
   "metadata": {},
   "outputs": [
    {
     "data": {
      "text/plain": [
       "[Text(0, 0, '7.09'), Text(0, 0, '8.22'), Text(0, 0, '5.26')]"
      ]
     },
     "execution_count": 18,
     "metadata": {},
     "output_type": "execute_result"
    },
    {
     "data": {
      "image/png": "[encoded data removed]",
      "text/plain": [
       "<Figure size 800x400 with 1 Axes>"
      ]
     },
     "metadata": {},
     "output_type": "display_data"
    }
   ],
   "source": [
    "fig = plt.figure(figsize=(8, 4))\n",
    "axes = fig.add_axes([0,0,1,1])\n",
    "bar_group_3 = axes.bar(\n",
    "    x =  grouped_deltatime_reg_and_level_choice['group'],\n",
    "    height = grouped_deltatime_reg_and_level_choice['deltatime_reg_and_level_choice'])\n",
    "axes.set_title('Время между регистрацией и выбором уровня сложности')\n",
    "axes.set_ylabel('Среднее время (час)')\n",
    "axes.set_xlabel('Группа пользователей')\n",
    "axes.bar_label(bar_group_3)"
   ]
  },
  {
   "cell_type": "markdown",
   "metadata": {},
   "source": [
    "ВЫВОДЫ:  \n",
    "\n",
    "Диаграмма 1 показывает, что пользователи, которые прошли обучение и закончили его в среднем  тратят меньше  времени между регистрацией и покупкой\n",
    "\n",
    "Диаграмма 2  показывает, что пользователи, которые не начинали обучение тратят меньше времени между регистрацией и выбором пакета вопросов \n",
    "\n",
    "Диаграмма 3 показывает, что пользователи, которые не проходили обучение в среднем тратят меньше времени от регистрации до выбора уровня сложности.   \n",
    "\n",
    "\n",
    "\n",
    "ОТВЕТ НА ГИПОТЕЗУ 1 ( По идее, должна быть разница в поведении групп, которые проходят и не проходят обучение. Но так ли это? Влияет ли обучение на скорость прохождения других этапов игры? )\n",
    "\n",
    "Разница в поведении групп, которые проходят и не проходят обучение, видна. Пользователи, которые прошли обучение, тратят меньше времени между регистрацией и покупкой,а также между выбором покета вопросов и уровнем сложности. Соответственно  обучение влияет на скорость прохождения других этапов игры.\n"
   ]
  },
  {
   "cell_type": "markdown",
   "metadata": {},
   "source": [
    "--------------------------------------------------------------"
   ]
  },
  {
   "cell_type": "markdown",
   "metadata": {},
   "source": [
    "ЗАДАЧА 2. Доказать, что успешное обучение само по себе влияет на оплату и не имеет значения то, каким этапом оно шло.  "
   ]
  },
  {
   "cell_type": "markdown",
   "metadata": {},
   "source": [
    "ГИПОТЕЗА 2.  Кажется, повторное прохождение обучения положительно влияет на оплату, верно?"
   ]
  },
  {
   "cell_type": "markdown",
   "metadata": {},
   "source": [
    "Подготавливаем данные"
   ]
  },
  {
   "cell_type": "markdown",
   "metadata": {},
   "source": [
    "Строим сводную таблицу,которая  отобразит  все типы событий у каждого пользователя."
   ]
  },
  {
   "cell_type": "code",
   "execution_count": 19,
   "metadata": {},
   "outputs": [],
   "source": [
    "pivot_events_df2 = total_events.pivot_table(\n",
    "    values='start_time', # Время события\n",
    "    index='user_id', # user_id (id конкретного пользователя)\n",
    "    columns='event_type', # Название событий \n",
    "    aggfunc='count' # функция aggfunc\n",
    ")\n"
   ]
  },
  {
   "cell_type": "code",
   "execution_count": 20,
   "metadata": {},
   "outputs": [
    {
     "data": {
      "text/html": [
       "<div>\n",
       "<style scoped>\n",
       "    .dataframe tbody tr th:only-of-type {\n",
       "        vertical-align: middle;\n",
       "    }\n",
       "\n",
       "    .dataframe tbody tr th {\n",
       "        vertical-align: top;\n",
       "    }\n",
       "\n",
       "    .dataframe thead th {\n",
       "        text-align: right;\n",
       "    }\n",
       "</style>\n",
       "<table border=\"1\" class=\"dataframe\">\n",
       "  <thead>\n",
       "    <tr style=\"text-align: right;\">\n",
       "      <th>event_type</th>\n",
       "      <th>tutorial_start</th>\n",
       "      <th>registration</th>\n",
       "      <th>purchase</th>\n",
       "    </tr>\n",
       "  </thead>\n",
       "  <tbody>\n",
       "    <tr>\n",
       "      <th>0</th>\n",
       "      <td>1.0</td>\n",
       "      <td>9103.0</td>\n",
       "      <td>1207.0</td>\n",
       "    </tr>\n",
       "    <tr>\n",
       "      <th>1</th>\n",
       "      <td>2.0</td>\n",
       "      <td>1589.0</td>\n",
       "      <td>218.0</td>\n",
       "    </tr>\n",
       "    <tr>\n",
       "      <th>2</th>\n",
       "      <td>3.0</td>\n",
       "      <td>427.0</td>\n",
       "      <td>51.0</td>\n",
       "    </tr>\n",
       "    <tr>\n",
       "      <th>3</th>\n",
       "      <td>4.0</td>\n",
       "      <td>221.0</td>\n",
       "      <td>30.0</td>\n",
       "    </tr>\n",
       "    <tr>\n",
       "      <th>4</th>\n",
       "      <td>5.0</td>\n",
       "      <td>109.0</td>\n",
       "      <td>16.0</td>\n",
       "    </tr>\n",
       "    <tr>\n",
       "      <th>5</th>\n",
       "      <td>6.0</td>\n",
       "      <td>116.0</td>\n",
       "      <td>14.0</td>\n",
       "    </tr>\n",
       "    <tr>\n",
       "      <th>6</th>\n",
       "      <td>7.0</td>\n",
       "      <td>94.0</td>\n",
       "      <td>12.0</td>\n",
       "    </tr>\n",
       "    <tr>\n",
       "      <th>7</th>\n",
       "      <td>8.0</td>\n",
       "      <td>86.0</td>\n",
       "      <td>13.0</td>\n",
       "    </tr>\n",
       "    <tr>\n",
       "      <th>8</th>\n",
       "      <td>9.0</td>\n",
       "      <td>113.0</td>\n",
       "      <td>17.0</td>\n",
       "    </tr>\n",
       "  </tbody>\n",
       "</table>\n",
       "</div>"
      ],
      "text/plain": [
       "event_type  tutorial_start  registration  purchase\n",
       "0                      1.0        9103.0    1207.0\n",
       "1                      2.0        1589.0     218.0\n",
       "2                      3.0         427.0      51.0\n",
       "3                      4.0         221.0      30.0\n",
       "4                      5.0         109.0      16.0\n",
       "5                      6.0         116.0      14.0\n",
       "6                      7.0          94.0      12.0\n",
       "7                      8.0          86.0      13.0\n",
       "8                      9.0         113.0      17.0"
      ]
     },
     "execution_count": 20,
     "metadata": {},
     "output_type": "execute_result"
    }
   ],
   "source": [
    "# Группируем пользователей, которые начинали обучение, по фактам регистрации и оплаты\n",
    "group_2 = pivot_events_df2.groupby(['tutorial_start'])[['registration', 'purchase']].sum()\n",
    "group_2 = pd.DataFrame(group_2).reset_index().sort_values(by='tutorial_start', ascending= True)\n",
    "\n",
    "\n",
    "group_2"
   ]
  },
  {
   "cell_type": "code",
   "execution_count": 21,
   "metadata": {},
   "outputs": [
    {
     "data": {
      "text/html": [
       "<div>\n",
       "<style scoped>\n",
       "    .dataframe tbody tr th:only-of-type {\n",
       "        vertical-align: middle;\n",
       "    }\n",
       "\n",
       "    .dataframe tbody tr th {\n",
       "        vertical-align: top;\n",
       "    }\n",
       "\n",
       "    .dataframe thead th {\n",
       "        text-align: right;\n",
       "    }\n",
       "</style>\n",
       "<table border=\"1\" class=\"dataframe\">\n",
       "  <thead>\n",
       "    <tr style=\"text-align: right;\">\n",
       "      <th>event_type</th>\n",
       "      <th>tutorial_start</th>\n",
       "      <th>registration</th>\n",
       "      <th>purchase</th>\n",
       "      <th>CR</th>\n",
       "    </tr>\n",
       "  </thead>\n",
       "  <tbody>\n",
       "    <tr>\n",
       "      <th>0</th>\n",
       "      <td>1.0</td>\n",
       "      <td>9103.0</td>\n",
       "      <td>1207.0</td>\n",
       "      <td>13.3</td>\n",
       "    </tr>\n",
       "    <tr>\n",
       "      <th>1</th>\n",
       "      <td>2.0</td>\n",
       "      <td>1589.0</td>\n",
       "      <td>218.0</td>\n",
       "      <td>13.7</td>\n",
       "    </tr>\n",
       "    <tr>\n",
       "      <th>2</th>\n",
       "      <td>3.0</td>\n",
       "      <td>427.0</td>\n",
       "      <td>51.0</td>\n",
       "      <td>11.9</td>\n",
       "    </tr>\n",
       "    <tr>\n",
       "      <th>3</th>\n",
       "      <td>4.0</td>\n",
       "      <td>221.0</td>\n",
       "      <td>30.0</td>\n",
       "      <td>13.6</td>\n",
       "    </tr>\n",
       "    <tr>\n",
       "      <th>4</th>\n",
       "      <td>5.0</td>\n",
       "      <td>109.0</td>\n",
       "      <td>16.0</td>\n",
       "      <td>14.7</td>\n",
       "    </tr>\n",
       "    <tr>\n",
       "      <th>5</th>\n",
       "      <td>6.0</td>\n",
       "      <td>116.0</td>\n",
       "      <td>14.0</td>\n",
       "      <td>12.1</td>\n",
       "    </tr>\n",
       "    <tr>\n",
       "      <th>6</th>\n",
       "      <td>7.0</td>\n",
       "      <td>94.0</td>\n",
       "      <td>12.0</td>\n",
       "      <td>12.8</td>\n",
       "    </tr>\n",
       "    <tr>\n",
       "      <th>7</th>\n",
       "      <td>8.0</td>\n",
       "      <td>86.0</td>\n",
       "      <td>13.0</td>\n",
       "      <td>15.1</td>\n",
       "    </tr>\n",
       "    <tr>\n",
       "      <th>8</th>\n",
       "      <td>9.0</td>\n",
       "      <td>113.0</td>\n",
       "      <td>17.0</td>\n",
       "      <td>15.0</td>\n",
       "    </tr>\n",
       "  </tbody>\n",
       "</table>\n",
       "</div>"
      ],
      "text/plain": [
       "event_type  tutorial_start  registration  purchase    CR\n",
       "0                      1.0        9103.0    1207.0  13.3\n",
       "1                      2.0        1589.0     218.0  13.7\n",
       "2                      3.0         427.0      51.0  11.9\n",
       "3                      4.0         221.0      30.0  13.6\n",
       "4                      5.0         109.0      16.0  14.7\n",
       "5                      6.0         116.0      14.0  12.1\n",
       "6                      7.0          94.0      12.0  12.8\n",
       "7                      8.0          86.0      13.0  15.1\n",
       "8                      9.0         113.0      17.0  15.0"
      ]
     },
     "metadata": {},
     "output_type": "display_data"
    }
   ],
   "source": [
    "# Посчитаем CR каждой группы\n",
    "group_2['CR'] = round(group_2['purchase']/group_2['registration']*100, 1)\n",
    "display(group_2)"
   ]
  },
  {
   "cell_type": "markdown",
   "metadata": {},
   "source": [
    "Диаграмма 1 - отображает показатель конверсии и кол-во обучений"
   ]
  },
  {
   "cell_type": "code",
   "execution_count": 22,
   "metadata": {},
   "outputs": [
    {
     "data": {
      "application/vnd.plotly.v1+json": {
       "config": {
        "plotlyServerURL": "https://plot.ly"
       },
       "data": [
        {
         "alignmentgroup": "True",
         "hovertemplate": "tutorial_start=%{x}<br>CR=%{y}<extra></extra>",
         "legendgroup": "",
         "marker": {
          "color": "#636efa",
          "pattern": {
           "shape": ""
          }
         },
         "name": "",
         "offsetgroup": "",
         "orientation": "v",
         "showlegend": false,
         "textposition": "auto",
         "type": "bar",
         "x": [
          1,
          2,
          3,
          4,
          5,
          6,
          7,
          8,
          9
         ],
         "xaxis": "x",
         "y": [
          13.3,
          13.7,
          11.9,
          13.6,
          14.7,
          12.1,
          12.8,
          15.1,
          15
         ],
         "yaxis": "y"
        }
       ],
       "layout": {
        "barmode": "relative",
        "legend": {
         "tracegroupgap": 0
        },
        "margin": {
         "t": 60
        },
        "template": {
         "data": {
          "bar": [
           {
            "error_x": {
             "color": "#2a3f5f"
            },
            "error_y": {
             "color": "#2a3f5f"
            },
            "marker": {
             "line": {
              "color": "#E5ECF6",
              "width": 0.5
             },
             "pattern": {
              "fillmode": "overlay",
              "size": 10,
              "solidity": 0.2
             }
            },
            "type": "bar"
           }
          ],
          "barpolar": [
           {
            "marker": {
             "line": {
              "color": "#E5ECF6",
              "width": 0.5
             },
             "pattern": {
              "fillmode": "overlay",
              "size": 10,
              "solidity": 0.2
             }
            },
            "type": "barpolar"
           }
          ],
          "carpet": [
           {
            "aaxis": {
             "endlinecolor": "#2a3f5f",
             "gridcolor": "white",
             "linecolor": "white",
             "minorgridcolor": "white",
             "startlinecolor": "#2a3f5f"
            },
            "baxis": {
             "endlinecolor": "#2a3f5f",
             "gridcolor": "white",
             "linecolor": "white",
             "minorgridcolor": "white",
             "startlinecolor": "#2a3f5f"
            },
            "type": "carpet"
           }
          ],
          "choropleth": [
           {
            "colorbar": {
             "outlinewidth": 0,
             "ticks": ""
            },
            "type": "choropleth"
           }
          ],
          "contour": [
           {
            "colorbar": {
             "outlinewidth": 0,
             "ticks": ""
            },
            "colorscale": [
             [
              0,
              "#0d0887"
             ],
             [
              0.1111111111111111,
              "#46039f"
             ],
             [
              0.2222222222222222,
              "#7201a8"
             ],
             [
              0.3333333333333333,
              "#9c179e"
             ],
             [
              0.4444444444444444,
              "#bd3786"
             ],
             [
              0.5555555555555556,
              "#d8576b"
             ],
             [
              0.6666666666666666,
              "#ed7953"
             ],
             [
              0.7777777777777778,
              "#fb9f3a"
             ],
             [
              0.8888888888888888,
              "#fdca26"
             ],
             [
              1,
              "#f0f921"
             ]
            ],
            "type": "contour"
           }
          ],
          "contourcarpet": [
           {
            "colorbar": {
             "outlinewidth": 0,
             "ticks": ""
            },
            "type": "contourcarpet"
           }
          ],
          "heatmap": [
           {
            "colorbar": {
             "outlinewidth": 0,
             "ticks": ""
            },
            "colorscale": [
             [
              0,
              "#0d0887"
             ],
             [
              0.1111111111111111,
              "#46039f"
             ],
             [
              0.2222222222222222,
              "#7201a8"
             ],
             [
              0.3333333333333333,
              "#9c179e"
             ],
             [
              0.4444444444444444,
              "#bd3786"
             ],
             [
              0.5555555555555556,
              "#d8576b"
             ],
             [
              0.6666666666666666,
              "#ed7953"
             ],
             [
              0.7777777777777778,
              "#fb9f3a"
             ],
             [
              0.8888888888888888,
              "#fdca26"
             ],
             [
              1,
              "#f0f921"
             ]
            ],
            "type": "heatmap"
           }
          ],
          "heatmapgl": [
           {
            "colorbar": {
             "outlinewidth": 0,
             "ticks": ""
            },
            "colorscale": [
             [
              0,
              "#0d0887"
             ],
             [
              0.1111111111111111,
              "#46039f"
             ],
             [
              0.2222222222222222,
              "#7201a8"
             ],
             [
              0.3333333333333333,
              "#9c179e"
             ],
             [
              0.4444444444444444,
              "#bd3786"
             ],
             [
              0.5555555555555556,
              "#d8576b"
             ],
             [
              0.6666666666666666,
              "#ed7953"
             ],
             [
              0.7777777777777778,
              "#fb9f3a"
             ],
             [
              0.8888888888888888,
              "#fdca26"
             ],
             [
              1,
              "#f0f921"
             ]
            ],
            "type": "heatmapgl"
           }
          ],
          "histogram": [
           {
            "marker": {
             "pattern": {
              "fillmode": "overlay",
              "size": 10,
              "solidity": 0.2
             }
            },
            "type": "histogram"
           }
          ],
          "histogram2d": [
           {
            "colorbar": {
             "outlinewidth": 0,
             "ticks": ""
            },
            "colorscale": [
             [
              0,
              "#0d0887"
             ],
             [
              0.1111111111111111,
              "#46039f"
             ],
             [
              0.2222222222222222,
              "#7201a8"
             ],
             [
              0.3333333333333333,
              "#9c179e"
             ],
             [
              0.4444444444444444,
              "#bd3786"
             ],
             [
              0.5555555555555556,
              "#d8576b"
             ],
             [
              0.6666666666666666,
              "#ed7953"
             ],
             [
              0.7777777777777778,
              "#fb9f3a"
             ],
             [
              0.8888888888888888,
              "#fdca26"
             ],
             [
              1,
              "#f0f921"
             ]
            ],
            "type": "histogram2d"
           }
          ],
          "histogram2dcontour": [
           {
            "colorbar": {
             "outlinewidth": 0,
             "ticks": ""
            },
            "colorscale": [
             [
              0,
              "#0d0887"
             ],
             [
              0.1111111111111111,
              "#46039f"
             ],
             [
              0.2222222222222222,
              "#7201a8"
             ],
             [
              0.3333333333333333,
              "#9c179e"
             ],
             [
              0.4444444444444444,
              "#bd3786"
             ],
             [
              0.5555555555555556,
              "#d8576b"
             ],
             [
              0.6666666666666666,
              "#ed7953"
             ],
             [
              0.7777777777777778,
              "#fb9f3a"
             ],
             [
              0.8888888888888888,
              "#fdca26"
             ],
             [
              1,
              "#f0f921"
             ]
            ],
            "type": "histogram2dcontour"
           }
          ],
          "mesh3d": [
           {
            "colorbar": {
             "outlinewidth": 0,
             "ticks": ""
            },
            "type": "mesh3d"
           }
          ],
          "parcoords": [
           {
            "line": {
             "colorbar": {
              "outlinewidth": 0,
              "ticks": ""
             }
            },
            "type": "parcoords"
           }
          ],
          "pie": [
           {
            "automargin": true,
            "type": "pie"
           }
          ],
          "scatter": [
           {
            "fillpattern": {
             "fillmode": "overlay",
             "size": 10,
             "solidity": 0.2
            },
            "type": "scatter"
           }
          ],
          "scatter3d": [
           {
            "line": {
             "colorbar": {
              "outlinewidth": 0,
              "ticks": ""
             }
            },
            "marker": {
             "colorbar": {
              "outlinewidth": 0,
              "ticks": ""
             }
            },
            "type": "scatter3d"
           }
          ],
          "scattercarpet": [
           {
            "marker": {
             "colorbar": {
              "outlinewidth": 0,
              "ticks": ""
             }
            },
            "type": "scattercarpet"
           }
          ],
          "scattergeo": [
           {
            "marker": {
             "colorbar": {
              "outlinewidth": 0,
              "ticks": ""
             }
            },
            "type": "scattergeo"
           }
          ],
          "scattergl": [
           {
            "marker": {
             "colorbar": {
              "outlinewidth": 0,
              "ticks": ""
             }
            },
            "type": "scattergl"
           }
          ],
          "scattermapbox": [
           {
            "marker": {
             "colorbar": {
              "outlinewidth": 0,
              "ticks": ""
             }
            },
            "type": "scattermapbox"
           }
          ],
          "scatterpolar": [
           {
            "marker": {
             "colorbar": {
              "outlinewidth": 0,
              "ticks": ""
             }
            },
            "type": "scatterpolar"
           }
          ],
          "scatterpolargl": [
           {
            "marker": {
             "colorbar": {
              "outlinewidth": 0,
              "ticks": ""
             }
            },
            "type": "scatterpolargl"
           }
          ],
          "scatterternary": [
           {
            "marker": {
             "colorbar": {
              "outlinewidth": 0,
              "ticks": ""
             }
            },
            "type": "scatterternary"
           }
          ],
          "surface": [
           {
            "colorbar": {
             "outlinewidth": 0,
             "ticks": ""
            },
            "colorscale": [
             [
              0,
              "#0d0887"
             ],
             [
              0.1111111111111111,
              "#46039f"
             ],
             [
              0.2222222222222222,
              "#7201a8"
             ],
             [
              0.3333333333333333,
              "#9c179e"
             ],
             [
              0.4444444444444444,
              "#bd3786"
             ],
             [
              0.5555555555555556,
              "#d8576b"
             ],
             [
              0.6666666666666666,
              "#ed7953"
             ],
             [
              0.7777777777777778,
              "#fb9f3a"
             ],
             [
              0.8888888888888888,
              "#fdca26"
             ],
             [
              1,
              "#f0f921"
             ]
            ],
            "type": "surface"
           }
          ],
          "table": [
           {
            "cells": {
             "fill": {
              "color": "#EBF0F8"
             },
             "line": {
              "color": "white"
             }
            },
            "header": {
             "fill": {
              "color": "#C8D4E3"
             },
             "line": {
              "color": "white"
             }
            },
            "type": "table"
           }
          ]
         },
         "layout": {
          "annotationdefaults": {
           "arrowcolor": "#2a3f5f",
           "arrowhead": 0,
           "arrowwidth": 1
          },
          "autotypenumbers": "strict",
          "coloraxis": {
           "colorbar": {
            "outlinewidth": 0,
            "ticks": ""
           }
          },
          "colorscale": {
           "diverging": [
            [
             0,
             "#8e0152"
            ],
            [
             0.1,
             "#c51b7d"
            ],
            [
             0.2,
             "#de77ae"
            ],
            [
             0.3,
             "#f1b6da"
            ],
            [
             0.4,
             "#fde0ef"
            ],
            [
             0.5,
             "#f7f7f7"
            ],
            [
             0.6,
             "#e6f5d0"
            ],
            [
             0.7,
             "#b8e186"
            ],
            [
             0.8,
             "#7fbc41"
            ],
            [
             0.9,
             "#4d9221"
            ],
            [
             1,
             "#276419"
            ]
           ],
           "sequential": [
            [
             0,
             "#0d0887"
            ],
            [
             0.1111111111111111,
             "#46039f"
            ],
            [
             0.2222222222222222,
             "#7201a8"
            ],
            [
             0.3333333333333333,
             "#9c179e"
            ],
            [
             0.4444444444444444,
             "#bd3786"
            ],
            [
             0.5555555555555556,
             "#d8576b"
            ],
            [
             0.6666666666666666,
             "#ed7953"
            ],
            [
             0.7777777777777778,
             "#fb9f3a"
            ],
            [
             0.8888888888888888,
             "#fdca26"
            ],
            [
             1,
             "#f0f921"
            ]
           ],
           "sequentialminus": [
            [
             0,
             "#0d0887"
            ],
            [
             0.1111111111111111,
             "#46039f"
            ],
            [
             0.2222222222222222,
             "#7201a8"
            ],
            [
             0.3333333333333333,
             "#9c179e"
            ],
            [
             0.4444444444444444,
             "#bd3786"
            ],
            [
             0.5555555555555556,
             "#d8576b"
            ],
            [
             0.6666666666666666,
             "#ed7953"
            ],
            [
             0.7777777777777778,
             "#fb9f3a"
            ],
            [
             0.8888888888888888,
             "#fdca26"
            ],
            [
             1,
             "#f0f921"
            ]
           ]
          },
          "colorway": [
           "#636efa",
           "#EF553B",
           "#00cc96",
           "#ab63fa",
           "#FFA15A",
           "#19d3f3",
           "#FF6692",
           "#B6E880",
           "#FF97FF",
           "#FECB52"
          ],
          "font": {
           "color": "#2a3f5f"
          },
          "geo": {
           "bgcolor": "white",
           "lakecolor": "white",
           "landcolor": "#E5ECF6",
           "showlakes": true,
           "showland": true,
           "subunitcolor": "white"
          },
          "hoverlabel": {
           "align": "left"
          },
          "hovermode": "closest",
          "mapbox": {
           "style": "light"
          },
          "paper_bgcolor": "white",
          "plot_bgcolor": "#E5ECF6",
          "polar": {
           "angularaxis": {
            "gridcolor": "white",
            "linecolor": "white",
            "ticks": ""
           },
           "bgcolor": "#E5ECF6",
           "radialaxis": {
            "gridcolor": "white",
            "linecolor": "white",
            "ticks": ""
           }
          },
          "scene": {
           "xaxis": {
            "backgroundcolor": "#E5ECF6",
            "gridcolor": "white",
            "gridwidth": 2,
            "linecolor": "white",
            "showbackground": true,
            "ticks": "",
            "zerolinecolor": "white"
           },
           "yaxis": {
            "backgroundcolor": "#E5ECF6",
            "gridcolor": "white",
            "gridwidth": 2,
            "linecolor": "white",
            "showbackground": true,
            "ticks": "",
            "zerolinecolor": "white"
           },
           "zaxis": {
            "backgroundcolor": "#E5ECF6",
            "gridcolor": "white",
            "gridwidth": 2,
            "linecolor": "white",
            "showbackground": true,
            "ticks": "",
            "zerolinecolor": "white"
           }
          },
          "shapedefaults": {
           "line": {
            "color": "#2a3f5f"
           }
          },
          "ternary": {
           "aaxis": {
            "gridcolor": "white",
            "linecolor": "white",
            "ticks": ""
           },
           "baxis": {
            "gridcolor": "white",
            "linecolor": "white",
            "ticks": ""
           },
           "bgcolor": "#E5ECF6",
           "caxis": {
            "gridcolor": "white",
            "linecolor": "white",
            "ticks": ""
           }
          },
          "title": {
           "x": 0.05
          },
          "xaxis": {
           "automargin": true,
           "gridcolor": "white",
           "linecolor": "white",
           "ticks": "",
           "title": {
            "standoff": 15
           },
           "zerolinecolor": "white",
           "zerolinewidth": 2
          },
          "yaxis": {
           "automargin": true,
           "gridcolor": "white",
           "linecolor": "white",
           "ticks": "",
           "title": {
            "standoff": 15
           },
           "zerolinecolor": "white",
           "zerolinewidth": 2
          }
         }
        },
        "xaxis": {
         "anchor": "y",
         "domain": [
          0,
          1
         ],
         "title": {
          "text": "tutorial_start"
         }
        },
        "yaxis": {
         "anchor": "x",
         "domain": [
          0,
          1
         ],
         "title": {
          "text": "CR"
         }
        }
       }
      }
     },
     "metadata": {},
     "output_type": "display_data"
    }
   ],
   "source": [
    "\n",
    "import plotly.express as px\n",
    "fig2 =px.bar(\n",
    "    group_2,\n",
    "    x= 'tutorial_start',\n",
    "    y= 'CR',\n",
    "    orientation= 'v'\n",
    ")\n",
    "fig2.show()"
   ]
  },
  {
   "cell_type": "code",
   "execution_count": 23,
   "metadata": {},
   "outputs": [
    {
     "data": {
      "text/html": [
       "<div>\n",
       "<style scoped>\n",
       "    .dataframe tbody tr th:only-of-type {\n",
       "        vertical-align: middle;\n",
       "    }\n",
       "\n",
       "    .dataframe tbody tr th {\n",
       "        vertical-align: top;\n",
       "    }\n",
       "\n",
       "    .dataframe thead th {\n",
       "        text-align: right;\n",
       "    }\n",
       "</style>\n",
       "<table border=\"1\" class=\"dataframe\">\n",
       "  <thead>\n",
       "    <tr style=\"text-align: right;\">\n",
       "      <th>event_type</th>\n",
       "      <th>group</th>\n",
       "      <th>purchase</th>\n",
       "    </tr>\n",
       "  </thead>\n",
       "  <tbody>\n",
       "    <tr>\n",
       "      <th>0</th>\n",
       "      <td>Закончил</td>\n",
       "      <td>1447</td>\n",
       "    </tr>\n",
       "    <tr>\n",
       "      <th>1</th>\n",
       "      <td>Не закончил</td>\n",
       "      <td>131</td>\n",
       "    </tr>\n",
       "    <tr>\n",
       "      <th>2</th>\n",
       "      <td>Не начинал</td>\n",
       "      <td>22</td>\n",
       "    </tr>\n",
       "  </tbody>\n",
       "</table>\n",
       "</div>"
      ],
      "text/plain": [
       "event_type        group  purchase\n",
       "0              Закончил      1447\n",
       "1           Не закончил       131\n",
       "2            Не начинал        22"
      ]
     },
     "execution_count": 23,
     "metadata": {},
     "output_type": "execute_result"
    }
   ],
   "source": [
    "#Группируем по  группам пользователей и считаем кол-во продаж:\n",
    "purchase_by_group = pivot_events_df.groupby('group', as_index=False)[['purchase']].count()\n",
    "purchase_by_group"
   ]
  },
  {
   "cell_type": "markdown",
   "metadata": {},
   "source": [
    "Диаграмма 2 -  показывает кол-во покупок по группам пользователей"
   ]
  },
  {
   "cell_type": "code",
   "execution_count": 24,
   "metadata": {},
   "outputs": [
    {
     "data": {
      "text/plain": [
       "[Text(0, 0, '1447'), Text(0, 0, '131'), Text(0, 0, '22')]"
      ]
     },
     "execution_count": 24,
     "metadata": {},
     "output_type": "execute_result"
    },
    {
     "data": {
      "image/png": "[encoded data removed]",
      "text/plain": [
       "<Figure size 800x400 with 1 Axes>"
      ]
     },
     "metadata": {},
     "output_type": "display_data"
    }
   ],
   "source": [
    "\n",
    "fig = plt.figure(figsize=(8, 4))\n",
    "axes = fig.add_axes([0,0,1,1])\n",
    "group = axes.bar(\n",
    "    x =  purchase_by_group['group'],\n",
    "    height = purchase_by_group['purchase'])\n",
    "axes.set_title('Кол-во покупок по группам пользователей')\n",
    "axes.set_ylabel('Покупки')\n",
    "axes.set_xlabel('Группа пользователей')\n",
    "axes.bar_label(group)"
   ]
  },
  {
   "cell_type": "markdown",
   "metadata": {},
   "source": [
    "Диаграмма 3  -  показывает долю оплат по группам пользователей"
   ]
  },
  {
   "cell_type": "code",
   "execution_count": 30,
   "metadata": {},
   "outputs": [
    {
     "data": {
      "image/png": "[encoded data removed]",
      "text/plain": [
       "<Figure size 500x500 with 1 Axes>"
      ]
     },
     "metadata": {},
     "output_type": "display_data"
    }
   ],
   "source": [
    "fig = plt.figure(figsize=(5,5))\n",
    "axes = fig.add_axes([0,0,1,1])\n",
    "\n",
    "axes.pie(\n",
    "    purchase_by_group['purchase'],\n",
    "    labels=purchase_by_group['group'],\n",
    "    autopct='%.1f%%',\n",
    "    explode = [0.2,0.2,0.2]\n",
    ")\n",
    "plt.show()"
   ]
  },
  {
   "cell_type": "markdown",
   "metadata": {},
   "source": [
    "ВЫВОДЫ:  \n",
    "Диаграмма 1 показывает, что разница в показателях конверсии (CR) между группами пользователей незначительная, следовательно можно утверждать, что нет прямой зависимости между колличеством обучений и вероятностью оплаты вопросов. \n",
    "\n",
    "Диаграмма 2 показывает, что большую часть покупок совершили пользователи, которые закончили  обучение.  \n",
    "\n",
    "Диаграмма 3 показывает, что 90 % оплат совершили также  пользователи, которые закончили обучение.\n",
    "\n",
    "ОТВЕТ НА ГИПОТЕЗУ 2.(Кажется, повторное прохождение обучения положительно влияет на оплату, верно?)  \n",
    "Повторное прохождение обучения положительно влияет на оплату. "
   ]
  },
  {
   "cell_type": "markdown",
   "metadata": {},
   "source": [
    "---------------------------------------------------------------------------------------------------------"
   ]
  },
  {
   "cell_type": "markdown",
   "metadata": {},
   "source": [
    "ЗАДАЧА 3. Определить, насколько прозрачен процесс взаимодействия с игрой."
   ]
  },
  {
   "cell_type": "markdown",
   "metadata": {},
   "source": [
    "ГИПОТЕЗА 3. Если пользователь сначала выбирает сложность, будет ли он потом проходить обучение?"
   ]
  },
  {
   "cell_type": "code",
   "execution_count": 26,
   "metadata": {},
   "outputs": [
    {
     "name": "stdout",
     "output_type": "stream",
     "text": [
      "<class 'pandas.core.frame.DataFrame'>\n",
      "RangeIndex: 12686 entries, 0 to 12685\n",
      "Data columns (total 4 columns):\n",
      " #   Column             Non-Null Count  Dtype          \n",
      "---  ------             --------------  -----          \n",
      " 0   user_id            12686 non-null  int64          \n",
      " 1   start_time         12686 non-null  datetime64[ns] \n",
      " 2   level_choice_time  12686 non-null  datetime64[ns] \n",
      " 3   delta_time         12686 non-null  timedelta64[ns]\n",
      "dtypes: datetime64[ns](2), int64(1), timedelta64[ns](1)\n",
      "memory usage: 396.6 KB\n"
     ]
    },
    {
     "data": {
      "text/html": [
       "<div>\n",
       "<style scoped>\n",
       "    .dataframe tbody tr th:only-of-type {\n",
       "        vertical-align: middle;\n",
       "    }\n",
       "\n",
       "    .dataframe tbody tr th {\n",
       "        vertical-align: top;\n",
       "    }\n",
       "\n",
       "    .dataframe thead th {\n",
       "        text-align: right;\n",
       "    }\n",
       "</style>\n",
       "<table border=\"1\" class=\"dataframe\">\n",
       "  <thead>\n",
       "    <tr style=\"text-align: right;\">\n",
       "      <th></th>\n",
       "      <th>user_id</th>\n",
       "      <th>start_time</th>\n",
       "      <th>level_choice_time</th>\n",
       "      <th>delta_time</th>\n",
       "    </tr>\n",
       "  </thead>\n",
       "  <tbody>\n",
       "    <tr>\n",
       "      <th>0</th>\n",
       "      <td>27835</td>\n",
       "      <td>2018-01-01 15:00:51</td>\n",
       "      <td>2018-01-01 20:37:22</td>\n",
       "      <td>-1 days +18:23:29</td>\n",
       "    </tr>\n",
       "    <tr>\n",
       "      <th>1</th>\n",
       "      <td>27839</td>\n",
       "      <td>2018-01-01 19:11:36</td>\n",
       "      <td>2018-01-01 22:37:50</td>\n",
       "      <td>-1 days +20:33:46</td>\n",
       "    </tr>\n",
       "    <tr>\n",
       "      <th>2</th>\n",
       "      <td>27840</td>\n",
       "      <td>2018-01-02 02:07:07</td>\n",
       "      <td>2018-01-02 05:18:42</td>\n",
       "      <td>-1 days +20:48:25</td>\n",
       "    </tr>\n",
       "    <tr>\n",
       "      <th>3</th>\n",
       "      <td>27845</td>\n",
       "      <td>2018-01-02 03:03:44</td>\n",
       "      <td>2018-01-02 06:19:18</td>\n",
       "      <td>-1 days +20:44:26</td>\n",
       "    </tr>\n",
       "    <tr>\n",
       "      <th>4</th>\n",
       "      <td>27845</td>\n",
       "      <td>2018-01-02 07:08:00</td>\n",
       "      <td>2018-01-02 06:19:18</td>\n",
       "      <td>0 days 00:48:42</td>\n",
       "    </tr>\n",
       "    <tr>\n",
       "      <th>...</th>\n",
       "      <td>...</td>\n",
       "      <td>...</td>\n",
       "      <td>...</td>\n",
       "      <td>...</td>\n",
       "    </tr>\n",
       "    <tr>\n",
       "      <th>12681</th>\n",
       "      <td>47732</td>\n",
       "      <td>2018-12-31 07:14:38</td>\n",
       "      <td>2018-12-31 09:59:00</td>\n",
       "      <td>-1 days +21:15:38</td>\n",
       "    </tr>\n",
       "    <tr>\n",
       "      <th>12682</th>\n",
       "      <td>47747</td>\n",
       "      <td>2018-12-31 10:21:11</td>\n",
       "      <td>2018-12-31 12:24:40</td>\n",
       "      <td>-1 days +21:56:31</td>\n",
       "    </tr>\n",
       "    <tr>\n",
       "      <th>12683</th>\n",
       "      <td>47753</td>\n",
       "      <td>2018-12-31 20:54:56</td>\n",
       "      <td>2018-12-31 22:36:19</td>\n",
       "      <td>-1 days +22:18:37</td>\n",
       "    </tr>\n",
       "    <tr>\n",
       "      <th>12684</th>\n",
       "      <td>47755</td>\n",
       "      <td>2019-01-01 00:08:14</td>\n",
       "      <td>2019-01-01 05:04:52</td>\n",
       "      <td>-1 days +19:03:22</td>\n",
       "    </tr>\n",
       "    <tr>\n",
       "      <th>12685</th>\n",
       "      <td>47756</td>\n",
       "      <td>2019-01-01 03:26:18</td>\n",
       "      <td>2019-01-01 05:42:11</td>\n",
       "      <td>-1 days +21:44:07</td>\n",
       "    </tr>\n",
       "  </tbody>\n",
       "</table>\n",
       "<p>12686 rows × 4 columns</p>\n",
       "</div>"
      ],
      "text/plain": [
       "       user_id          start_time   level_choice_time        delta_time\n",
       "0        27835 2018-01-01 15:00:51 2018-01-01 20:37:22 -1 days +18:23:29\n",
       "1        27839 2018-01-01 19:11:36 2018-01-01 22:37:50 -1 days +20:33:46\n",
       "2        27840 2018-01-02 02:07:07 2018-01-02 05:18:42 -1 days +20:48:25\n",
       "3        27845 2018-01-02 03:03:44 2018-01-02 06:19:18 -1 days +20:44:26\n",
       "4        27845 2018-01-02 07:08:00 2018-01-02 06:19:18   0 days 00:48:42\n",
       "...        ...                 ...                 ...               ...\n",
       "12681    47732 2018-12-31 07:14:38 2018-12-31 09:59:00 -1 days +21:15:38\n",
       "12682    47747 2018-12-31 10:21:11 2018-12-31 12:24:40 -1 days +21:56:31\n",
       "12683    47753 2018-12-31 20:54:56 2018-12-31 22:36:19 -1 days +22:18:37\n",
       "12684    47755 2019-01-01 00:08:14 2019-01-01 05:04:52 -1 days +19:03:22\n",
       "12685    47756 2019-01-01 03:26:18 2019-01-01 05:42:11 -1 days +21:44:07\n",
       "\n",
       "[12686 rows x 4 columns]"
      ]
     },
     "metadata": {},
     "output_type": "display_data"
    }
   ],
   "source": [
    "# Создаем датафрейм с пользователями, которые начали обучение (tutorial_start)\n",
    "tutorial_start_group = total_events[total_events['event_type']== 'tutorial_start']\n",
    "\n",
    "# Создаем датафрейм с пользователями, которые выбрали уровень сложности(level_choice)\n",
    "level_choice_group = total_events[total_events['event_type']== 'level_choice']\n",
    "\n",
    "# Переименуем столбец start_time\n",
    "level_choice_group = level_choice_group.rename(columns={'start_time': 'level_choice_time'})\n",
    "\n",
    "# Объединяем таблицы\n",
    "delta_tutorial_start_level_choice= tutorial_start_group[['user_id', 'start_time']].merge(\n",
    "    level_choice_group[['user_id', 'level_choice_time']],\n",
    "    on= 'user_id',\n",
    "    how= 'inner'\n",
    ")\n",
    "## Создаем дополнительный столбце delta_time которая покызывает разницу во времени\n",
    "delta_tutorial_start_level_choice['delta_time'] = (delta_tutorial_start_level_choice['start_time'] - delta_tutorial_start_level_choice['level_choice_time'])\n",
    "\n",
    "delta_tutorial_start_level_choice.info()\n",
    "display(delta_tutorial_start_level_choice)\n"
   ]
  },
  {
   "cell_type": "markdown",
   "metadata": {},
   "source": [
    "Рассчитываем пользователей, которые приступили к обучению после выбора уровня сложности"
   ]
  },
  {
   "cell_type": "code",
   "execution_count": 27,
   "metadata": {},
   "outputs": [
    {
     "name": "stdout",
     "output_type": "stream",
     "text": [
      "Количество пользователей, приступивших к обучению после выбора уровня сложности: 1386\n"
     ]
    }
   ],
   "source": [
    "\n",
    "users_level_choice_before_tutorial = delta_tutorial_start_level_choice.query('delta_time > \"1 second\"')['user_id'].nunique()\n",
    "print('Количество пользователей, приступивших к обучению после выбора уровня сложности:', users_level_choice_before_tutorial)"
   ]
  },
  {
   "cell_type": "markdown",
   "metadata": {},
   "source": [
    "Рассчитываем пользователей, которые приступили к  выбору уровня сложности после начала обучения"
   ]
  },
  {
   "cell_type": "code",
   "execution_count": 28,
   "metadata": {},
   "outputs": [
    {
     "name": "stdout",
     "output_type": "stream",
     "text": [
      "Количество пользователей, приступивших к выбору уровня сложности после начала обучения: 8244\n"
     ]
    }
   ],
   "source": [
    "users_level_choice_after_tutorial = delta_tutorial_start_level_choice.query('delta_time < @pd.Timedelta(0)')['user_id'].nunique() \n",
    "print('Количество пользователей, приступивших к выбору уровня сложности после начала обучения:',users_level_choice_after_tutorial)  "
   ]
  },
  {
   "cell_type": "markdown",
   "metadata": {},
   "source": [
    "Находим долю пользователей, которые начали обучение после выбора уровня сложности :"
   ]
  },
  {
   "cell_type": "code",
   "execution_count": 29,
   "metadata": {},
   "outputs": [
    {
     "name": "stdout",
     "output_type": "stream",
     "text": [
      "Доля пользователей, которые начали обучение после выбора уровня сложности: 16.81%\n"
     ]
    }
   ],
   "source": [
    "users = users_level_choice_before_tutorial /users_level_choice_after_tutorial\n",
    "print('Доля пользователей, которые начали обучение после выбора уровня сложности: {:.2%}'.format(users))"
   ]
  },
  {
   "cell_type": "markdown",
   "metadata": {},
   "source": [
    "ВЫВОД:  \n",
    "В результате расчетов видим, что почти 17% пользователей начинают обучение после выбора уровня сложноти, это говорит о том, что этим пользователям  не понятна работа с приложением."
   ]
  }
 ],
 "metadata": {
  "kernelspec": {
   "display_name": "Python 3",
   "language": "python",
   "name": "python3"
  },
  "language_info": {
   "codemirror_mode": {
    "name": "ipython",
    "version": 3
   },
   "file_extension": ".py",
   "mimetype": "text/x-python",
   "name": "python",
   "nbconvert_exporter": "python",
   "pygments_lexer": "ipython3",
   "version": "3.9.10"
  }
 },
 "nbformat": 4,
 "nbformat_minor": 2
}
