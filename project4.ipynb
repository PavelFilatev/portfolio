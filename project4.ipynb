{
 "cells": [
  {
   "cell_type": "markdown",
   "metadata": {},
   "source": [
    "## ЦЕЛЬ  \n",
    "Подготовить основу рекомендательной системы.  \n",
    "\n",
    "## ЗАДАЧИ  \n",
    "Оформить таблицу , которая станет  основой рекомендательной  системы и должна содержать три столбца:  \n",
    "1.Курс к котрому идет рекомендация  \n",
    "2.Курс для рекомендации №1 (самый популярный)  \n",
    "3.Курс для рекомендации №2 (второй по популярности)  \n",
    "\n",
    "## КОНКРЕТНЫЕ ШАГИ (ФОРМАЛИЗОВАННЫЕ ЗАДАЧИ)\n",
    "1.Познакомиться с датасетом  \n",
    "2.подготовить и проанализировать данные с помощью SQL.  \n",
    "3.Обработать данные средствами Python.  \n",
    "4.Составить итоговую таблицу с рекомендациями, снабдив её необходимыми комментариями, и представить отчёт продакт-менеджеру.\n"
   ]
  },
  {
   "cell_type": "markdown",
   "metadata": {},
   "source": [
    "## sql запросы в Metabase\n",
    "Сколько клиентов покупали курсы?  \n",
    "\n",
    "SELECT COUNT(DISTINCT c.user_id)   \n",
    "FROM  final.carts c   \n",
    "join final.cart_items t on c.id =  t.cart_id  \n",
    "where resource_type = 'Course' and state = 'successful'  \n",
    "\n",
    "\n",
    "Сколько всего есть различных курсов?  \n",
    "\n",
    "SELECT   \n",
    "count (distinct t.resource_id)  \n",
    "FROM  final.carts c   \n",
    "join final.cart_items t on c.id =  t.cart_id  \n",
    "where resource_type = 'Course'  \n",
    "\n",
    "Каково среднее число купленных курсов на одного клиента?  \n",
    "\n",
    "SELECT   \n",
    "    count (distinct c.user_id) as unique_users,  \n",
    "    count (distinct t.resource_id) as unique_courses,  \n",
    "    count (t.resource_id) as total_sales_courses,  \n",
    "    count (t.resource_id) / count (distinct c.user_id)::decimal as average_by_users  \n",
    "FROM  final.carts c   \n",
    "join final.cart_items t on c.id =  t.cart_id  \n",
    "where resource_type = 'Course'and c.state = 'successful'  \n",
    "\n",
    "Сколько клиентов купили больше одного курса?  \n",
    "\n",
    "WITH count_users AS  \n",
    "(  \n",
    "    SELECT  user_id,  \n",
    "            COUNT (resource_id) AS count_cours  \n",
    "    FROM final.carts AS c  \n",
    "    JOIN final.cart_items AS ci  \n",
    "    ON ci.cart_id = c.id  \n",
    "    WHERE state = 'successful'  \n",
    "    AND resource_type = 'Course'  \n",
    "    GROUP BY  user_id  \n",
    "    HAVING COUNT (DISTINCT resource_id) > 1  \n",
    ")  \n",
    "SELECT    \n",
    "DISTINCT count_users.user_id,  \n",
    "resource_id  \n",
    "FROM final.carts AS c  \n",
    "JOIN final.cart_items AS ci  \n",
    "ON ci.cart_id = c.id  \n",
    "RIGHT JOIN count_users  \n",
    "ON c.user_id = count_users.user_id  \n",
    "WHERE state = 'successful' AND resource_type = 'Course'  \n",
    "ORDER BY count_users.user_id, resource_id  \n"
   ]
  },
  {
   "cell_type": "markdown",
   "metadata": {},
   "source": [
    "Переносим данные и Metabase в VSCode"
   ]
  },
  {
   "cell_type": "code",
   "execution_count": 2,
   "metadata": {},
   "outputs": [],
   "source": [
    "# импортирую необходимые библиоткеки\n",
    "import pandas as pd\n",
    "from scipy import stats as st\n",
    "import itertools as it\n",
    "import numpy as np\n",
    "import collections \n",
    "from collections import Counter"
   ]
  },
  {
   "cell_type": "code",
   "execution_count": 3,
   "metadata": {},
   "outputs": [],
   "source": [
    "# загружаю csv файл\n",
    "df= pd.read_csv('C:\\IDE\\DATA\\query_result_2024-03-28T12_07_24.038744Z.csv')"
   ]
  },
  {
   "cell_type": "code",
   "execution_count": 4,
   "metadata": {},
   "outputs": [
    {
     "name": "stdout",
     "output_type": "stream",
     "text": [
      "<class 'pandas.core.frame.DataFrame'>\n",
      "RangeIndex: 34074 entries, 0 to 34073\n",
      "Data columns (total 2 columns):\n",
      " #   Column       Non-Null Count  Dtype\n",
      "---  ------       --------------  -----\n",
      " 0   user_id      34074 non-null  int64\n",
      " 1   resource_id  34074 non-null  int64\n",
      "dtypes: int64(2)\n",
      "memory usage: 532.5 KB\n"
     ]
    }
   ],
   "source": [
    "# Проверяю на пропуски\n",
    "df.info()"
   ]
  },
  {
   "cell_type": "code",
   "execution_count": 5,
   "metadata": {},
   "outputs": [
    {
     "name": "stdout",
     "output_type": "stream",
     "text": [
      "Кол-во уникальных пар :  3989\n"
     ]
    }
   ],
   "source": [
    "#основной датасет перевожу в df с user_id и списком купленных курсов к каждому  \n",
    "df_dict = df.groupby('user_id')['resource_id'].agg(\n",
    "        ['nunique', set]\n",
    ").sort_values(by='nunique', ascending=False)\n",
    "\n",
    "# формирую пары для каждого пользьзователя\n",
    "course_pairs= df_dict['set'].apply(lambda x: list(it.combinations(sorted(x), 2)))\n",
    "\n",
    "# объединяю получившиеся списки пар курсов в один\n",
    "courses_list = []\n",
    "for course in course_pairs.values:\n",
    "    for elem in course: \n",
    "        courses_list.append(elem) \n",
    "# считаю кол-во уникальных пар\n",
    "print('Кол-во уникальных пар : ', len(set(courses_list)))\n"
   ]
  },
  {
   "cell_type": "code",
   "execution_count": 6,
   "metadata": {},
   "outputs": [
    {
     "data": {
      "text/plain": [
       "pairs\n",
       "551, 566     797\n",
       "515, 551     417\n",
       "489, 551     311\n",
       "523, 551     304\n",
       "566, 794     290\n",
       "            ... \n",
       "571, 866       1\n",
       "368, 679       1\n",
       "835, 1102      1\n",
       "809, 1125      1\n",
       "358, 1103      1\n",
       "Name: count, Length: 3989, dtype: int64"
      ]
     },
     "metadata": {},
     "output_type": "display_data"
    }
   ],
   "source": [
    "# Определяю самую популярную пару курсов\n",
    "pairs= pd.DataFrame(courses_list)\n",
    "pairs[0]=pairs[0].astype(str)\n",
    "pairs[1]=pairs[1].astype(str)\n",
    "\n",
    "pairs['pairs'] = pairs[[0,1]].agg(', '.join,axis=1)\n",
    "display(pairs['pairs'].value_counts())"
   ]
  },
  {
   "cell_type": "code",
   "execution_count": 7,
   "metadata": {},
   "outputs": [],
   "source": [
    "# Создаю словарь из courses_list для дальнейших расчетов\n",
    "Counter(courses_list)\n",
    "courses_pairs_dict=dict(Counter(courses_list))"
   ]
  },
  {
   "cell_type": "code",
   "execution_count": 8,
   "metadata": {},
   "outputs": [],
   "source": [
    "## Формирую перечень уникальных resource_id\n",
    "courses_unique = set(df['resource_id'])\n",
    "# создаю функцию для вывода рекомендаций\n",
    "def reco(course_id):\n",
    "    top_list = []\n",
    "    for e in courses_pairs_dict.keys():\n",
    "        if e[0] == course_id:\n",
    "            top_list.append((e, courses_pairs_dict[e]))\n",
    "        if e[1] == course_id:\n",
    "            top_list.append((e, courses_pairs_dict[e]))\n",
    "    top_list.sort(key = lambda x: x[1], reverse=True) \n",
    "    return top_list[:2]\n"
   ]
  },
  {
   "cell_type": "markdown",
   "metadata": {},
   "source": [
    "Считаю минимальную границу частотности  \n",
    "\n",
    "Процентиль беру 85, т.к. он поможет определить какие значения находятся в верхних 15%  и поможет выделить лучшие результаты,соответствено поможет выделить самые популярные курсы и на основе их предложить клиентам  более интересные им  курсы  и тем самым повышать средний чек"
   ]
  },
  {
   "cell_type": "code",
   "execution_count": 9,
   "metadata": {},
   "outputs": [],
   "source": [
    "\n",
    "freq_df = pd.DataFrame(courses_pairs_dict, index = courses_pairs_dict.keys(), columns = ['freq'])\n",
    "freq_df['freq'] = courses_pairs_dict.values()\n",
    "min_freq = np.percentile(freq_df['freq'],85)"
   ]
  },
  {
   "cell_type": "code",
   "execution_count": 10,
   "metadata": {},
   "outputs": [],
   "source": [
    "# Формирую перечень уникальных resource_id, создаю список\n",
    "courses_unique = list(set(df['resource_id']))\n",
    "\n",
    "# Создаю  датафрейм с индексами из resource_id, полученных выше\n",
    "recomm_df = pd.DataFrame(index=courses_unique,columns=[\"first_rec\",\"second_rec\"])\n",
    "\n",
    "# Добавляю значения в recomm_df\n",
    "for course_id in courses_unique:\n",
    "        rec1= None\n",
    "        rec2= None\n",
    "        if reco(course_id)[0][1] >= min_freq:\n",
    "            rec1 = (set(reco(course_id)[0][0])-set([course_id])).pop()\n",
    "        else:\n",
    "            rec1 = '511'\n",
    "        if reco(course_id)[1][1] >= min_freq:\n",
    "            rec2 = (set(reco(course_id)[1][0])-set([course_id])).pop()\n",
    "        else:\n",
    "            rec2 = '566'\n",
    "        recomm_df.loc[course_id] = [rec1,rec2]\n",
    "   "
   ]
  },
  {
   "cell_type": "code",
   "execution_count": 11,
   "metadata": {},
   "outputs": [
    {
     "data": {
      "text/plain": [
       "[((551, 566), 797), ((566, 794), 290)]"
      ]
     },
     "execution_count": 11,
     "metadata": {},
     "output_type": "execute_result"
    }
   ],
   "source": [
    "# Проверяю правильность работы функции\n",
    "reco(566)"
   ]
  },
  {
   "cell_type": "code",
   "execution_count": 12,
   "metadata": {},
   "outputs": [
    {
     "data": {
      "text/html": [
       "<div>\n",
       "<style scoped>\n",
       "    .dataframe tbody tr th:only-of-type {\n",
       "        vertical-align: middle;\n",
       "    }\n",
       "\n",
       "    .dataframe tbody tr th {\n",
       "        vertical-align: top;\n",
       "    }\n",
       "\n",
       "    .dataframe thead th {\n",
       "        text-align: right;\n",
       "    }\n",
       "</style>\n",
       "<table border=\"1\" class=\"dataframe\">\n",
       "  <thead>\n",
       "    <tr style=\"text-align: right;\">\n",
       "      <th></th>\n",
       "      <th>first_rec</th>\n",
       "      <th>second_rec</th>\n",
       "    </tr>\n",
       "  </thead>\n",
       "  <tbody>\n",
       "    <tr>\n",
       "      <th>513</th>\n",
       "      <td>503</td>\n",
       "      <td>551</td>\n",
       "    </tr>\n",
       "    <tr>\n",
       "      <th>514</th>\n",
       "      <td>551</td>\n",
       "      <td>515</td>\n",
       "    </tr>\n",
       "    <tr>\n",
       "      <th>515</th>\n",
       "      <td>551</td>\n",
       "      <td>489</td>\n",
       "    </tr>\n",
       "    <tr>\n",
       "      <th>516</th>\n",
       "      <td>745</td>\n",
       "      <td>553</td>\n",
       "    </tr>\n",
       "    <tr>\n",
       "      <th>517</th>\n",
       "      <td>551</td>\n",
       "      <td>750</td>\n",
       "    </tr>\n",
       "    <tr>\n",
       "      <th>...</th>\n",
       "      <td>...</td>\n",
       "      <td>...</td>\n",
       "    </tr>\n",
       "    <tr>\n",
       "      <th>504</th>\n",
       "      <td>572</td>\n",
       "      <td>569</td>\n",
       "    </tr>\n",
       "    <tr>\n",
       "      <th>507</th>\n",
       "      <td>570</td>\n",
       "      <td>752</td>\n",
       "    </tr>\n",
       "    <tr>\n",
       "      <th>508</th>\n",
       "      <td>507</td>\n",
       "      <td>570</td>\n",
       "    </tr>\n",
       "    <tr>\n",
       "      <th>509</th>\n",
       "      <td>745</td>\n",
       "      <td>553</td>\n",
       "    </tr>\n",
       "    <tr>\n",
       "      <th>511</th>\n",
       "      <td>363</td>\n",
       "      <td>562</td>\n",
       "    </tr>\n",
       "  </tbody>\n",
       "</table>\n",
       "<p>126 rows × 2 columns</p>\n",
       "</div>"
      ],
      "text/plain": [
       "    first_rec second_rec\n",
       "513       503        551\n",
       "514       551        515\n",
       "515       551        489\n",
       "516       745        553\n",
       "517       551        750\n",
       "..        ...        ...\n",
       "504       572        569\n",
       "507       570        752\n",
       "508       507        570\n",
       "509       745        553\n",
       "511       363        562\n",
       "\n",
       "[126 rows x 2 columns]"
      ]
     },
     "execution_count": 12,
     "metadata": {},
     "output_type": "execute_result"
    }
   ],
   "source": [
    "# вывожу итоговую таблицу\n",
    "recomm_df"
   ]
  },
  {
   "cell_type": "markdown",
   "metadata": {},
   "source": [
    "Таблица выдает две рекомендации для курса, первая- самый популярный курс, вторая- второй по популярности курс, благодаря этим рекомендациям, клиентам будут предлагатьсяся курсы наиболее интересные для них, а при увеличении интереса клиентов будут возрастать продажи и средний чек."
   ]
  }
 ],
 "metadata": {
  "kernelspec": {
   "display_name": "Python 3",
   "language": "python",
   "name": "python3"
  },
  "language_info": {
   "codemirror_mode": {
    "name": "ipython",
    "version": 3
   },
   "file_extension": ".py",
   "mimetype": "text/x-python",
   "name": "python",
   "nbconvert_exporter": "python",
   "pygments_lexer": "ipython3",
   "version": "3.9.10"
  }
 },
 "nbformat": 4,
 "nbformat_minor": 2
}
